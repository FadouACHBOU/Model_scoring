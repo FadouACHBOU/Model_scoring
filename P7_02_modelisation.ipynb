{
 "cells": [
  {
   "cell_type": "code",
   "execution_count": null,
   "id": "6dee1fe4",
   "metadata": {},
   "outputs": [],
   "source": []
  },
  {
   "cell_type": "code",
   "execution_count": 1,
   "id": "9c50bdf6",
   "metadata": {
    "_cell_guid": "b1076dfc-b9ad-4769-8c92-a6c4dae69d19",
    "_uuid": "8f2839f25d086af736a60e9eeb907d3b93b6e0e5",
    "execution": {
     "iopub.execute_input": "2021-12-18T10:53:59.704374Z",
     "iopub.status.busy": "2021-12-18T10:53:59.703725Z",
     "iopub.status.idle": "2021-12-18T10:54:02.444663Z",
     "shell.execute_reply": "2021-12-18T10:54:02.445183Z",
     "shell.execute_reply.started": "2021-12-17T19:41:50.491063Z"
    },
    "papermill": {
     "duration": 2.785782,
     "end_time": "2021-12-18T10:54:02.445482",
     "exception": false,
     "start_time": "2021-12-18T10:53:59.659700",
     "status": "completed"
    },
    "tags": []
   },
   "outputs": [],
   "source": [
    "# Libraries import\n",
    "import os\n",
    "import numpy as np\n",
    "import matplotlib.pyplot as plt\n",
    "import seaborn as sns\n",
    "import pandas as pd\n",
    "pd.set_option('display.max_columns', None)\n",
    "import re\n",
    "import time\n",
    "import gc\n",
    "from collections import Counter\n",
    "from imblearn.over_sampling import SMOTE\n",
    "from imblearn.under_sampling import RandomUnderSampler\n",
    "from imblearn.pipeline import Pipeline\n",
    "from sklearn import decomposition\n",
    "from sklearn.impute import SimpleImputer\n",
    "from sklearn.preprocessing import StandardScaler\n",
    "from sklearn.dummy import DummyClassifier\n",
    "from sklearn.metrics import roc_auc_score, roc_curve, precision_recall_curve, f1_score, fbeta_score, precision_score, recall_score\n",
    "from sklearn.model_selection import KFold, StratifiedKFold\n",
    "from sklearn import linear_model, neighbors\n",
    "from sklearn.ensemble import RandomForestClassifier\n",
    "from sklearn.model_selection import GridSearchCV,RandomizedSearchCV , train_test_split\n",
    "from xgboost import XGBClassifier\n",
    "from lightgbm import LGBMClassifier"
   ]
  },
  {
   "cell_type": "markdown",
   "id": "439a5e93",
   "metadata": {
    "papermill": {
     "duration": 0.029569,
     "end_time": "2021-12-18T10:54:02.572486",
     "exception": false,
     "start_time": "2021-12-18T10:54:02.542917",
     "status": "completed"
    },
    "tags": []
   },
   "source": [
    "Pour cette étape, j'ai choisi de m'appuyer sur le kernel Kaggle suivant:(https://www.kaggle.com/jsaguiar/lightgbm-with-simple-features)\n"
   ]
  },
  {
   "cell_type": "code",
   "execution_count": 2,
   "id": "0b3adfe6",
   "metadata": {
    "execution": {
     "iopub.execute_input": "2021-12-18T10:54:02.638057Z",
     "iopub.status.busy": "2021-12-18T10:54:02.637370Z",
     "iopub.status.idle": "2021-12-18T10:54:54.791548Z",
     "shell.execute_reply": "2021-12-18T10:54:54.790668Z",
     "shell.execute_reply.started": "2021-12-17T19:41:56.310848Z"
    },
    "papermill": {
     "duration": 52.1874,
     "end_time": "2021-12-18T10:54:54.791763",
     "exception": false,
     "start_time": "2021-12-18T10:54:02.604363",
     "status": "completed"
    },
    "tags": []
   },
   "outputs": [
    {
     "name": "stdout",
     "output_type": "stream",
     "text": [
      "<class 'pandas.core.frame.DataFrame'>\n",
      "Int64Index: 356251 entries, 0 to 356254\n",
      "Columns: 797 entries, SK_ID_CURR to CC_COUNT\n",
      "dtypes: float64(622), int64(175)\n",
      "memory usage: 2.1 GB\n"
     ]
    },
    {
     "data": {
      "text/plain": [
       "0"
      ]
     },
     "execution_count": 2,
     "metadata": {},
     "output_type": "execute_result"
    }
   ],
   "source": [
    "df_data_mod = pd.read_csv('Data/Home_credit_risk_data_modeling.csv', index_col=0)\n",
    "df_data_mod.info()\n",
    "columns_no_nan = [i for i in df_data_mod.columns if df_data_mod[i].isnull().sum() == 0]\n",
    "df_train_sample = df_data_mod.loc[~(df_data_mod['TARGET'].isnull())]\n",
    "df_test_sample = df_data_mod.loc[df_data_mod['TARGET'].isnull()]\n",
    "del df_data_mod\n",
    "gc.collect()"
   ]
  },
  {
   "cell_type": "code",
   "execution_count": 4,
   "id": "84e3c866",
   "metadata": {
    "execution": {
     "iopub.execute_input": "2021-12-18T10:54:54.873997Z",
     "iopub.status.busy": "2021-12-18T10:54:54.872559Z",
     "iopub.status.idle": "2021-12-18T10:54:56.793864Z",
     "shell.execute_reply": "2021-12-18T10:54:56.793346Z",
     "shell.execute_reply.started": "2021-12-17T19:43:08.466649Z"
    },
    "papermill": {
     "duration": 1.9609,
     "end_time": "2021-12-18T10:54:56.794005",
     "exception": false,
     "start_time": "2021-12-18T10:54:54.833105",
     "status": "completed"
    },
    "tags": []
   },
   "outputs": [
    {
     "data": {
      "text/plain": [
       "20"
      ]
     },
     "execution_count": 4,
     "metadata": {},
     "output_type": "execute_result"
    }
   ],
   "source": [
    "# Defining X and y with train data\n",
    "X = df_train_sample.drop(columns = ['TARGET','SK_ID_CURR']).copy()\n",
    "y = df_train_sample['TARGET'].copy()\n",
    "# keep SK_ID_CURR for later evantually\n",
    "index_global_train_SK_ID_CURR = df_train_sample['SK_ID_CURR']\n",
    "# Checking inf\n",
    "np.isinf(X).values.sum()"
   ]
  },
  {
   "cell_type": "code",
   "execution_count": 5,
   "id": "6b5a2880",
   "metadata": {
    "execution": {
     "iopub.execute_input": "2021-12-18T10:54:56.860524Z",
     "iopub.status.busy": "2021-12-18T10:54:56.859597Z",
     "iopub.status.idle": "2021-12-18T10:55:05.631507Z",
     "shell.execute_reply": "2021-12-18T10:55:05.631002Z",
     "shell.execute_reply.started": "2021-12-17T19:43:17.024717Z"
    },
    "papermill": {
     "duration": 8.806885,
     "end_time": "2021-12-18T10:55:05.631645",
     "exception": false,
     "start_time": "2021-12-18T10:54:56.824760",
     "status": "completed"
    },
    "tags": []
   },
   "outputs": [
    {
     "data": {
      "text/plain": [
       "0"
      ]
     },
     "execution_count": 5,
     "metadata": {},
     "output_type": "execute_result"
    }
   ],
   "source": [
    "# Replace inf values by max() and min() values and check\n",
    "col_min_max = {np.inf: X[np.isfinite(X)].max(),    # column-wise max\n",
    "              -np.inf: X[np.isfinite(X)].min()}    # column-wise min\n",
    "\n",
    "X = X.replace({col: col_min_max for col in X.columns})\n",
    "np.isinf(X).values.sum()"
   ]
  },
  {
   "cell_type": "code",
   "execution_count": 6,
   "id": "f3d49cbf",
   "metadata": {
    "execution": {
     "iopub.execute_input": "2021-12-18T10:55:05.697869Z",
     "iopub.status.busy": "2021-12-18T10:55:05.696637Z",
     "iopub.status.idle": "2021-12-18T10:55:06.150094Z",
     "shell.execute_reply": "2021-12-18T10:55:06.150644Z",
     "shell.execute_reply.started": "2021-12-17T19:43:30.196494Z"
    },
    "papermill": {
     "duration": 0.488297,
     "end_time": "2021-12-18T10:55:06.150838",
     "exception": false,
     "start_time": "2021-12-18T10:55:05.662541",
     "status": "completed"
    },
    "tags": []
   },
   "outputs": [
    {
     "data": {
      "text/plain": [
       "CODE_GENDER                              0\n",
       "FLAG_OWN_CAR                             0\n",
       "FLAG_OWN_REALTY                          0\n",
       "CNT_CHILDREN                             0\n",
       "AMT_INCOME_TOTAL                         0\n",
       "                                     ...  \n",
       "CC_NAME_CONTRACT_STATUS_nan_MAX     220602\n",
       "CC_NAME_CONTRACT_STATUS_nan_MEAN    220602\n",
       "CC_NAME_CONTRACT_STATUS_nan_SUM     220602\n",
       "CC_NAME_CONTRACT_STATUS_nan_VAR     221234\n",
       "CC_COUNT                            220602\n",
       "Length: 795, dtype: int64"
      ]
     },
     "execution_count": 6,
     "metadata": {},
     "output_type": "execute_result"
    }
   ],
   "source": [
    "# Checking NaN values\n",
    "X.isna().sum()"
   ]
  },
  {
   "cell_type": "code",
   "execution_count": 7,
   "id": "8447ebe4",
   "metadata": {
    "execution": {
     "iopub.execute_input": "2021-12-18T10:55:06.221432Z",
     "iopub.status.busy": "2021-12-18T10:55:06.220369Z",
     "iopub.status.idle": "2021-12-18T10:55:06.222333Z",
     "shell.execute_reply": "2021-12-18T10:55:06.222961Z",
     "shell.execute_reply.started": "2021-12-17T19:43:34.185812Z"
    },
    "papermill": {
     "duration": 0.04074,
     "end_time": "2021-12-18T10:55:06.223141",
     "exception": false,
     "start_time": "2021-12-18T10:55:06.182401",
     "status": "completed"
    },
    "tags": []
   },
   "outputs": [],
   "source": [
    "# Function for features detection before imputation, numerical continue or numerical discrete\n",
    "def list_features_att(df):\n",
    "    '''Function to attribute to columns of a dataframe a category into a several list\n",
    "    it returns two lists.\n",
    "    --> Numerical: num_list\n",
    "    --> discrete_numerical: num_dis_list'''\n",
    "    \n",
    "    num_list = list()\n",
    "    num_dis_list = list()\n",
    "    for name in df.columns:\n",
    "        if df[name].nunique() < 10:\n",
    "            num_dis_list.append(name)\n",
    "        else:\n",
    "            num_list.append(name)\n",
    "    return num_list, num_dis_list"
   ]
  },
  {
   "cell_type": "code",
   "execution_count": 8,
   "id": "d6dda680",
   "metadata": {
    "execution": {
     "iopub.execute_input": "2021-12-18T10:55:06.290217Z",
     "iopub.status.busy": "2021-12-18T10:55:06.289247Z",
     "iopub.status.idle": "2021-12-18T10:55:31.444794Z",
     "shell.execute_reply": "2021-12-18T10:55:31.444153Z",
     "shell.execute_reply.started": "2021-12-17T19:43:36.980977Z"
    },
    "papermill": {
     "duration": 25.19051,
     "end_time": "2021-12-18T10:55:31.444943",
     "exception": false,
     "start_time": "2021-12-18T10:55:06.254433",
     "status": "completed"
    },
    "tags": []
   },
   "outputs": [
    {
     "name": "stdout",
     "output_type": "stream",
     "text": [
      "time for imputation: 26.64\n"
     ]
    }
   ],
   "source": [
    "# Imputation in function of the numeric format\n",
    "numerical_cont_list, numerical_disc_list = list_features_att(X)\n",
    "time_init = time.time()\n",
    "#imputation on numeric continue columns with 'mean' strategy\n",
    "X[numerical_cont_list] = SimpleImputer(strategy='mean').fit_transform(X[numerical_cont_list])\n",
    "#imputation on  discrete numeric columns with 'most_frequent' strategy\n",
    "X[numerical_disc_list] = SimpleImputer(strategy='most_frequent').fit_transform(X[numerical_disc_list])\n",
    "print (f'time for imputation: {time.time() - time_init:.2f}')"
   ]
  },
  {
   "cell_type": "markdown",
   "id": "24faab6b",
   "metadata": {
    "papermill": {
     "duration": 0.031531,
     "end_time": "2021-12-18T10:55:31.572451",
     "exception": false,
     "start_time": "2021-12-18T10:55:31.540920",
     "status": "completed"
    },
    "tags": []
   },
   "source": [
    "* Nous avons 795 features et 307507 lignes ! nous allons réduire  nos données avec train_test_split avec option stratifiée pour conserver 5% de nos données.\n",
    "* Il ne sera utilisé que pour la recherche d'un meilleur modèle potentiel"
   ]
  },
  {
   "cell_type": "code",
   "execution_count": 9,
   "id": "4b65b1be",
   "metadata": {
    "execution": {
     "iopub.execute_input": "2021-12-18T10:55:31.640284Z",
     "iopub.status.busy": "2021-12-18T10:55:31.639491Z",
     "iopub.status.idle": "2021-12-18T10:55:35.169744Z",
     "shell.execute_reply": "2021-12-18T10:55:35.169159Z",
     "shell.execute_reply.started": "2021-12-17T19:44:08.022628Z"
    },
    "papermill": {
     "duration": 3.565366,
     "end_time": "2021-12-18T10:55:35.169902",
     "exception": false,
     "start_time": "2021-12-18T10:55:31.604536",
     "status": "completed"
    },
    "tags": []
   },
   "outputs": [
    {
     "data": {
      "image/png": "[encoded data removed]",
      "text/plain": [
       "<Figure size 720x504 with 1 Axes>"
      ]
     },
     "metadata": {},
     "output_type": "display_data"
    },
    {
     "name": "stdout",
     "output_type": "stream",
     "text": [
      "sample features shape:(15375, 795), sample target shape: (15375,)\n"
     ]
    }
   ],
   "source": [
    "# keeping only train result in our split\n",
    "X1,_,y1,_ = train_test_split(X, y, train_size=0.05, stratify=y, random_state=4)\n",
    "# verifying that our problem is still imbalanced\n",
    "figure1 = plt.figure(figsize=(10,7), facecolor='w')\n",
    "plt.title('Répartion des crédits payés à temps et avec difficultés dans notre sample', fontweight='bold', pad=20)\n",
    "plt.axis('off')\n",
    "x = y1.value_counts()\n",
    "expl = [0 if i/x.sum() > 0.02 else 0.8 for i in x]\n",
    "plt.pie(x, labels=[i for i in x.index], autopct=\"%.1f%%\", pctdistance=0.8,\n",
    "        explode=expl, textprops={'fontsize': 10, 'fontweight': 'bold'})\n",
    "plt.legend(['Remboursés', 'Difficultés de paiement'])\n",
    "plt.show()\n",
    "print(f'sample features shape:{X1.shape}, sample target shape: {y1.shape}')"
   ]
  },
  {
   "cell_type": "markdown",
   "id": "848db4f1",
   "metadata": {
    "papermill": {
     "duration": 0.033465,
     "end_time": "2021-12-18T10:55:35.238578",
     "exception": false,
     "start_time": "2021-12-18T10:55:35.205113",
     "status": "completed"
    },
    "tags": []
   },
   "source": [
    "* Nous avons obtenu 15375 lignes avec le même état déséquilibré que nos données complètes."
   ]
  },
  {
   "cell_type": "markdown",
   "id": "81850ea3",
   "metadata": {
    "papermill": {
     "duration": 0.033599,
     "end_time": "2021-12-18T10:55:35.305686",
     "exception": false,
     "start_time": "2021-12-18T10:55:35.272087",
     "status": "completed"
    },
    "tags": []
   },
   "source": [
    "* Maintenant, nous allons appliquer le split  et le standardScaler aux données réduites avant de rechercher le meilleur modèle."
   ]
  },
  {
   "cell_type": "code",
   "execution_count": 10,
   "id": "4ff80f51",
   "metadata": {
    "execution": {
     "iopub.execute_input": "2021-12-18T10:55:35.380725Z",
     "iopub.status.busy": "2021-12-18T10:55:35.379768Z",
     "iopub.status.idle": "2021-12-18T10:55:35.649623Z",
     "shell.execute_reply": "2021-12-18T10:55:35.649051Z",
     "shell.execute_reply.started": "2021-12-17T19:44:20.045722Z"
    },
    "papermill": {
     "duration": 0.310453,
     "end_time": "2021-12-18T10:55:35.649764",
     "exception": false,
     "start_time": "2021-12-18T10:55:35.339311",
     "status": "completed"
    },
    "tags": []
   },
   "outputs": [
    {
     "name": "stdout",
     "output_type": "stream",
     "text": [
      "Time for Spliting and Normalize: 0.28\n"
     ]
    }
   ],
   "source": [
    "time_init = time.time()\n",
    "# Data split (80% of train set)\n",
    "X1_train, X1_test, y1_train, y1_test = train_test_split(X1, y1, train_size=0.8, stratify=y1, random_state=4)\n",
    "# Normalization of the imput data\n",
    "std_scaler = StandardScaler()\n",
    "std_scaler.fit(X1_train)\n",
    "X1_train = std_scaler.transform(X1_train)\n",
    "X1_test = std_scaler.transform(X1_test)\n",
    "print (f'Time for Spliting and Normalize: {time.time() - time_init:.2f}')"
   ]
  },
  {
   "cell_type": "markdown",
   "id": "e893fad1",
   "metadata": {
    "papermill": {
     "duration": 0.034242,
     "end_time": "2021-12-18T10:55:35.718972",
     "exception": false,
     "start_time": "2021-12-18T10:55:35.684730",
     "status": "completed"
    },
    "tags": []
   },
   "source": [
    "## Recherche du meilleur modèle ( SMOTE, RUS ) pour ré-échantillonner le jeu de données :"
   ]
  },
  {
   "cell_type": "markdown",
   "id": "0a02065f",
   "metadata": {},
   "source": [
    "Nous pouvons corriger cette situation via le rééchantillonnage :\n",
    "\n",
    "* **undersampling (sous-échantillonnage ):** éléments pop de la classe la plus lourde. Méthode des liens Tomek de la bibliothèque imblearn\n",
    "suréchantillonnage : ajouter des éléments dans la classe mineure. Méthode SMOTE de la bibliothèque imblearn\n",
    "* **RandomUnderSampler :** Cette méthode supprime la classe la plus lourde en sélectionnant aléatoirement des échantillons avec ou sans remplacement"
   ]
  },
  {
   "cell_type": "markdown",
   "id": "38bcf67e",
   "metadata": {
    "papermill": {
     "duration": 0.033417,
     "end_time": "2021-12-18T10:55:35.786295",
     "exception": false,
     "start_time": "2021-12-18T10:55:35.752878",
     "status": "completed"
    },
    "tags": []
   },
   "source": [
    "### 1. Dummy Classifier :\n",
    "Il va nous servir comme baseline. "
   ]
  },
  {
   "cell_type": "code",
   "execution_count": 11,
   "id": "0a2216d4",
   "metadata": {
    "execution": {
     "iopub.execute_input": "2021-12-18T10:55:35.862976Z",
     "iopub.status.busy": "2021-12-18T10:55:35.862313Z",
     "iopub.status.idle": "2021-12-18T10:55:35.897761Z",
     "shell.execute_reply": "2021-12-18T10:55:35.898567Z",
     "shell.execute_reply.started": "2021-12-17T19:44:25.019847Z"
    },
    "papermill": {
     "duration": 0.078778,
     "end_time": "2021-12-18T10:55:35.898897",
     "exception": false,
     "start_time": "2021-12-18T10:55:35.820119",
     "status": "completed"
    },
    "tags": []
   },
   "outputs": [
    {
     "name": "stderr",
     "output_type": "stream",
     "text": [
      "C:\\Users\\Fadou\\AppData\\Roaming\\Python\\Python39\\site-packages\\sklearn\\metrics\\_classification.py:1318: UndefinedMetricWarning: Precision is ill-defined and being set to 0.0 due to no predicted samples. Use `zero_division` parameter to control this behavior.\n",
      "  _warn_prf(average, modifier, msg_start, len(result))\n"
     ]
    },
    {
     "data": {
      "text/html": [
       "<div>\n",
       "<style scoped>\n",
       "    .dataframe tbody tr th:only-of-type {\n",
       "        vertical-align: middle;\n",
       "    }\n",
       "\n",
       "    .dataframe tbody tr th {\n",
       "        vertical-align: top;\n",
       "    }\n",
       "\n",
       "    .dataframe thead th {\n",
       "        text-align: right;\n",
       "    }\n",
       "</style>\n",
       "<table border=\"1\" class=\"dataframe\">\n",
       "  <thead>\n",
       "    <tr style=\"text-align: right;\">\n",
       "      <th></th>\n",
       "      <th>model</th>\n",
       "      <th>Score AUC</th>\n",
       "      <th>F1_score</th>\n",
       "      <th>F2_score</th>\n",
       "      <th>Precision_score</th>\n",
       "      <th>Recall_score</th>\n",
       "      <th>Train Time(s)</th>\n",
       "      <th>Predict Time(s)</th>\n",
       "      <th>Comment</th>\n",
       "    </tr>\n",
       "  </thead>\n",
       "  <tbody>\n",
       "    <tr>\n",
       "      <th>0</th>\n",
       "      <td>Dummy_stratified</td>\n",
       "      <td>0.5</td>\n",
       "      <td>0.0</td>\n",
       "      <td>0.0</td>\n",
       "      <td>0.0</td>\n",
       "      <td>0.0</td>\n",
       "      <td>0.001998</td>\n",
       "      <td>0.0</td>\n",
       "      <td>test data score</td>\n",
       "    </tr>\n",
       "  </tbody>\n",
       "</table>\n",
       "</div>"
      ],
      "text/plain": [
       "              model  Score AUC  F1_score  F2_score  Precision_score  \\\n",
       "0  Dummy_stratified        0.5       0.0       0.0              0.0   \n",
       "\n",
       "   Recall_score  Train Time(s)  Predict Time(s)          Comment  \n",
       "0           0.0       0.001998              0.0  test data score  "
      ]
     },
     "execution_count": 11,
     "metadata": {},
     "output_type": "execute_result"
    }
   ],
   "source": [
    "dummy_classifier= DummyClassifier(strategy='most_frequent', random_state=4)\n",
    "time_init = time.time()\n",
    "dummy_classifier.fit(X1_train, y1_train)\n",
    "time_1 = time.time()\n",
    "y_pred_dumm_const_1 = dummy_classifier.predict(X1_test)\n",
    "time_2 = time.time()\n",
    "y_pred_pro_dumm_const_1 = dummy_classifier.predict_proba(X1_test)[:,1]\n",
    "# create df for global model results\n",
    "summary_result = list()\n",
    "summary_result.append({'model':'Dummy_stratified', 'Score AUC':roc_auc_score(y1_test, y_pred_pro_dumm_const_1), \n",
    "                       'F1_score': f1_score(y1_test, y_pred_dumm_const_1), 'F2_score': fbeta_score(y1_test, y_pred_dumm_const_1, beta=2), \n",
    "                       'Precision_score': precision_score(y1_test,y_pred_dumm_const_1), 'Recall_score': recall_score(y1_test, y_pred_dumm_const_1),\n",
    "                       'Train Time(s)':time_1 - time_init, 'Predict Time(s)': time_2 - time_1,'Comment': 'test data score'})\n",
    "df_summary_result1 = pd.DataFrame(summary_result)\n",
    "df_summary_result1"
   ]
  },
  {
   "cell_type": "markdown",
   "id": "d934b790",
   "metadata": {
    "papermill": {
     "duration": 0.034179,
     "end_time": "2021-12-18T10:55:35.969506",
     "exception": false,
     "start_time": "2021-12-18T10:55:35.935327",
     "status": "completed"
    },
    "tags": []
   },
   "source": [
    "###  2. Sélection des model avec  RandomSearchCV :"
   ]
  },
  {
   "cell_type": "markdown",
   "id": "3d3a9f34",
   "metadata": {
    "papermill": {
     "duration": 0.035899,
     "end_time": "2021-12-18T10:55:36.040504",
     "exception": false,
     "start_time": "2021-12-18T10:55:36.004605",
     "status": "completed"
    },
    "tags": []
   },
   "source": [
    "#### 2.1  Logistic Regression"
   ]
  },
  {
   "cell_type": "code",
   "execution_count": 12,
   "id": "b889a05f",
   "metadata": {
    "execution": {
     "iopub.execute_input": "2021-12-18T10:55:36.120029Z",
     "iopub.status.busy": "2021-12-18T10:55:36.119010Z",
     "iopub.status.idle": "2021-12-18T11:33:37.394681Z",
     "shell.execute_reply": "2021-12-18T11:33:37.393660Z",
     "shell.execute_reply.started": "2021-12-17T19:44:29.869105Z"
    },
    "papermill": {
     "duration": 2281.320108,
     "end_time": "2021-12-18T11:33:37.395206",
     "exception": false,
     "start_time": "2021-12-18T10:55:36.075098",
     "status": "completed"
    },
    "tags": []
   },
   "outputs": [
    {
     "name": "stdout",
     "output_type": "stream",
     "text": [
      "RandomSearchCV execution time(s): 2650.2927453517914\n"
     ]
    },
    {
     "data": {
      "text/html": [
       "<div>\n",
       "<style scoped>\n",
       "    .dataframe tbody tr th:only-of-type {\n",
       "        vertical-align: middle;\n",
       "    }\n",
       "\n",
       "    .dataframe tbody tr th {\n",
       "        vertical-align: top;\n",
       "    }\n",
       "\n",
       "    .dataframe thead th {\n",
       "        text-align: right;\n",
       "    }\n",
       "</style>\n",
       "<table border=\"1\" class=\"dataframe\">\n",
       "  <thead>\n",
       "    <tr style=\"text-align: right;\">\n",
       "      <th></th>\n",
       "      <th>model</th>\n",
       "      <th>best_score AUC</th>\n",
       "      <th>best parameters</th>\n",
       "      <th>Best model</th>\n",
       "      <th>Refit Time(s)</th>\n",
       "      <th>Comment</th>\n",
       "    </tr>\n",
       "  </thead>\n",
       "  <tbody>\n",
       "    <tr>\n",
       "      <th>0</th>\n",
       "      <td>Logistic_Regression</td>\n",
       "      <td>0.684624</td>\n",
       "      <td>{'classifier__C': 15.922827933410922}</td>\n",
       "      <td>(SMOTE(random_state=4), LogisticRegression(C=1...</td>\n",
       "      <td>35.559556</td>\n",
       "      <td>SMOTE(random_state=4) train data</td>\n",
       "    </tr>\n",
       "    <tr>\n",
       "      <th>1</th>\n",
       "      <td>Logistic_Regression</td>\n",
       "      <td>0.651584</td>\n",
       "      <td>{'classifier__C': 15.922827933410922}</td>\n",
       "      <td>(RandomUnderSampler(random_state=4), LogisticR...</td>\n",
       "      <td>2.073801</td>\n",
       "      <td>RandomUnderSampler(random_state=4) train data</td>\n",
       "    </tr>\n",
       "  </tbody>\n",
       "</table>\n",
       "</div>"
      ],
      "text/plain": [
       "                 model  best_score AUC                        best parameters  \\\n",
       "0  Logistic_Regression        0.684624  {'classifier__C': 15.922827933410922}   \n",
       "1  Logistic_Regression        0.651584  {'classifier__C': 15.922827933410922}   \n",
       "\n",
       "                                          Best model  Refit Time(s)  \\\n",
       "0  (SMOTE(random_state=4), LogisticRegression(C=1...      35.559556   \n",
       "1  (RandomUnderSampler(random_state=4), LogisticR...       2.073801   \n",
       "\n",
       "                                         Comment  \n",
       "0               SMOTE(random_state=4) train data  \n",
       "1  RandomUnderSampler(random_state=4) train data  "
      ]
     },
     "execution_count": 12,
     "metadata": {},
     "output_type": "execute_result"
    }
   ],
   "source": [
    "# Defining the samplers\n",
    "smote = SMOTE(random_state=4)\n",
    "rus = RandomUnderSampler(random_state=4)\n",
    "\n",
    "# create the imblearn pipeline and grid parameters\n",
    "# be carefull be sure to use pipeline from imblearn to use SMOTE sampler, it will not evaluate result on y_test create with it\n",
    "time_init = time.time()\n",
    "scores_CV5_1 = list()\n",
    "for sampler in [smote, rus]:\n",
    "    pipe = Pipeline([('Sampling', sampler), ('classifier', linear_model.LogisticRegression(random_state=4, max_iter=10000))])\n",
    "    param_grid1 = {'classifier__C':np.logspace(1,3,100)}\n",
    "    # perfomring rand search CV\n",
    "    gride_mod = RandomizedSearchCV(pipe, param_distributions = param_grid1, cv = 5, scoring='roc_auc', n_iter=10, n_jobs=-1, random_state=4)\n",
    "    gride_mod.fit(X1_train, y1_train)\n",
    "    scores_CV5_1.append({'model':'Logistic_Regression', 'best_score AUC':gride_mod.best_score_, 'best parameters':gride_mod.best_params_,\n",
    "                       'Best model':gride_mod.best_estimator_,'Refit Time(s)':gride_mod.refit_time_, 'Comment':f'{sampler} train data'})\n",
    "\n",
    "# create df results\n",
    "print(f'RandomSearchCV execution time(s): {time.time() - time_init}')\n",
    "df_scores_CV5_1 = pd.DataFrame(scores_CV5_1)\n",
    "df_scores_CV5_1"
   ]
  },
  {
   "cell_type": "markdown",
   "id": "63733781",
   "metadata": {
    "papermill": {
     "duration": 0.035946,
     "end_time": "2021-12-18T11:33:37.467048",
     "exception": false,
     "start_time": "2021-12-18T11:33:37.431102",
     "status": "completed"
    },
    "tags": []
   },
   "source": [
    "#### 2.2. KNeighborsClassifier"
   ]
  },
  {
   "cell_type": "code",
   "execution_count": 13,
   "id": "13a22be6",
   "metadata": {
    "execution": {
     "iopub.execute_input": "2021-12-18T11:33:37.552579Z",
     "iopub.status.busy": "2021-12-18T11:33:37.551431Z",
     "iopub.status.idle": "2021-12-18T12:01:39.808990Z",
     "shell.execute_reply": "2021-12-18T12:01:39.808335Z",
     "shell.execute_reply.started": "2021-12-17T20:20:48.303872Z"
    },
    "papermill": {
     "duration": 1682.306098,
     "end_time": "2021-12-18T12:01:39.809148",
     "exception": false,
     "start_time": "2021-12-18T11:33:37.503050",
     "status": "completed"
    },
    "tags": []
   },
   "outputs": [
    {
     "name": "stdout",
     "output_type": "stream",
     "text": [
      "RandomSearchCV execution time(s): 71.70884013175964\n",
      "RandomSearchCV execution time(s): 80.35434937477112\n"
     ]
    }
   ],
   "source": [
    "# Defining the samplers\n",
    "smote = SMOTE(random_state=4)\n",
    "rus = RandomUnderSampler(random_state=4)\n",
    "\n",
    "# create the imblearn pipeline and grid parameters\n",
    "# be carefull be sure to use pipeline from imblearn to use SMOTE sampler, it will not evaluate result on y_test create with it\n",
    "time_init = time.time()\n",
    "scores_CV5_1 = list()\n",
    "for sampler in [smote, rus]:\n",
    "    pipe = Pipeline([('Sampling', sampler), ('classifier', neighbors.KNeighborsClassifier())])\n",
    "    param_grid1 = {'classifier__n_neighbors':range(2,300,1)}\n",
    "    # perfomring rand search CV\n",
    "    gride_mod = RandomizedSearchCV(pipe, param_distributions = param_grid1, cv = 5, scoring='roc_auc', n_iter=10, n_jobs=-1, random_state=4)\n",
    "    gride_mod.fit(X1_train, y1_train)\n",
    "    scores_CV5_1.append({'model':'Kneighbors classifier', 'best_score AUC':gride_mod.best_score_, 'best parameters':gride_mod.best_params_,\n",
    "                       'Best model':gride_mod.best_estimator_,'Refit Time(s)':gride_mod.refit_time_, 'Comment':f'{sampler} train data'})\n",
    "   \n",
    "    # create df results\n",
    "    print(f'RandomSearchCV execution time(s): {time.time() - time_init}')\n",
    "    df_scores_CV5_1 = df_scores_CV5_1.append(scores_CV5_1, ignore_index=True)\n"
   ]
  },
  {
   "cell_type": "code",
   "execution_count": 26,
   "id": "e6bcf7c0",
   "metadata": {},
   "outputs": [
    {
     "data": {
      "text/html": [
       "<div>\n",
       "<style scoped>\n",
       "    .dataframe tbody tr th:only-of-type {\n",
       "        vertical-align: middle;\n",
       "    }\n",
       "\n",
       "    .dataframe tbody tr th {\n",
       "        vertical-align: top;\n",
       "    }\n",
       "\n",
       "    .dataframe thead th {\n",
       "        text-align: right;\n",
       "    }\n",
       "</style>\n",
       "<table border=\"1\" class=\"dataframe\">\n",
       "  <thead>\n",
       "    <tr style=\"text-align: right;\">\n",
       "      <th></th>\n",
       "      <th>model</th>\n",
       "      <th>best_score AUC</th>\n",
       "      <th>best parameters</th>\n",
       "      <th>Best model</th>\n",
       "      <th>Refit Time(s)</th>\n",
       "      <th>Comment</th>\n",
       "    </tr>\n",
       "  </thead>\n",
       "  <tbody>\n",
       "    <tr>\n",
       "      <th>0</th>\n",
       "      <td>Logistic_Regression</td>\n",
       "      <td>0.684624</td>\n",
       "      <td>{'classifier__C': 15.922827933410922}</td>\n",
       "      <td>(SMOTE(random_state=4), LogisticRegression(C=1...</td>\n",
       "      <td>35.559556</td>\n",
       "      <td>SMOTE(random_state=4) train data</td>\n",
       "    </tr>\n",
       "    <tr>\n",
       "      <th>1</th>\n",
       "      <td>Logistic_Regression</td>\n",
       "      <td>0.651584</td>\n",
       "      <td>{'classifier__C': 15.922827933410922}</td>\n",
       "      <td>(RandomUnderSampler(random_state=4), LogisticR...</td>\n",
       "      <td>2.073801</td>\n",
       "      <td>RandomUnderSampler(random_state=4) train data</td>\n",
       "    </tr>\n",
       "    <tr>\n",
       "      <th>2</th>\n",
       "      <td>Kneighbors classifier</td>\n",
       "      <td>0.591673</td>\n",
       "      <td>{'classifier__n_neighbors': 291}</td>\n",
       "      <td>(SMOTE(random_state=4), KNeighborsClassifier(n...</td>\n",
       "      <td>0.390617</td>\n",
       "      <td>SMOTE(random_state=4) train data</td>\n",
       "    </tr>\n",
       "    <tr>\n",
       "      <th>3</th>\n",
       "      <td>Kneighbors classifier</td>\n",
       "      <td>0.591673</td>\n",
       "      <td>{'classifier__n_neighbors': 291}</td>\n",
       "      <td>(SMOTE(random_state=4), KNeighborsClassifier(n...</td>\n",
       "      <td>0.390617</td>\n",
       "      <td>SMOTE(random_state=4) train data</td>\n",
       "    </tr>\n",
       "    <tr>\n",
       "      <th>4</th>\n",
       "      <td>Kneighbors classifier</td>\n",
       "      <td>0.671466</td>\n",
       "      <td>{'classifier__n_neighbors': 293}</td>\n",
       "      <td>(RandomUnderSampler(random_state=4), KNeighbor...</td>\n",
       "      <td>0.015625</td>\n",
       "      <td>RandomUnderSampler(random_state=4) train data</td>\n",
       "    </tr>\n",
       "    <tr>\n",
       "      <th>5</th>\n",
       "      <td>RandomForest classifier</td>\n",
       "      <td>0.685239</td>\n",
       "      <td>{'classifier__n_estimators': 65, 'classifier__...</td>\n",
       "      <td>(SMOTE(random_state=4), (DecisionTreeClassifie...</td>\n",
       "      <td>10.386787</td>\n",
       "      <td>SMOTE(random_state=4) train data</td>\n",
       "    </tr>\n",
       "    <tr>\n",
       "      <th>6</th>\n",
       "      <td>RandomForest classifier</td>\n",
       "      <td>0.719367</td>\n",
       "      <td>{'classifier__n_estimators': 50, 'classifier__...</td>\n",
       "      <td>(RandomUnderSampler(random_state=4), (Decision...</td>\n",
       "      <td>0.453113</td>\n",
       "      <td>RandomUnderSampler(random_state=4) train data</td>\n",
       "    </tr>\n",
       "    <tr>\n",
       "      <th>7</th>\n",
       "      <td>XGBoost classifier</td>\n",
       "      <td>0.731914</td>\n",
       "      <td>{'classifier__n_estimators': 60, 'classifier__...</td>\n",
       "      <td>(SMOTE(random_state=4), XGBClassifier(base_sco...</td>\n",
       "      <td>30.916036</td>\n",
       "      <td>SMOTE(random_state=4) train data</td>\n",
       "    </tr>\n",
       "    <tr>\n",
       "      <th>8</th>\n",
       "      <td>XGBoost classifier</td>\n",
       "      <td>0.729597</td>\n",
       "      <td>{'classifier__n_estimators': 25, 'classifier__...</td>\n",
       "      <td>(RandomUnderSampler(random_state=4), XGBClassi...</td>\n",
       "      <td>0.766528</td>\n",
       "      <td>RandomUnderSampler(random_state=4) train data</td>\n",
       "    </tr>\n",
       "    <tr>\n",
       "      <th>9</th>\n",
       "      <td>LGBM classifier</td>\n",
       "      <td>0.732245</td>\n",
       "      <td>{'classifier__n_estimators': 60, 'classifier__...</td>\n",
       "      <td>(SMOTE(random_state=4), LGBMClassifier(max_dep...</td>\n",
       "      <td>6.158206</td>\n",
       "      <td>SMOTE(random_state=4) train data</td>\n",
       "    </tr>\n",
       "    <tr>\n",
       "      <th>10</th>\n",
       "      <td>LGBM classifier</td>\n",
       "      <td>0.729382</td>\n",
       "      <td>{'classifier__n_estimators': 60, 'classifier__...</td>\n",
       "      <td>(RandomUnderSampler(random_state=4), LGBMClass...</td>\n",
       "      <td>0.948415</td>\n",
       "      <td>RandomUnderSampler(random_state=4) train data</td>\n",
       "    </tr>\n",
       "  </tbody>\n",
       "</table>\n",
       "</div>"
      ],
      "text/plain": [
       "                      model  best_score AUC  \\\n",
       "0       Logistic_Regression        0.684624   \n",
       "1       Logistic_Regression        0.651584   \n",
       "2     Kneighbors classifier        0.591673   \n",
       "3     Kneighbors classifier        0.591673   \n",
       "4     Kneighbors classifier        0.671466   \n",
       "5   RandomForest classifier        0.685239   \n",
       "6   RandomForest classifier        0.719367   \n",
       "7        XGBoost classifier        0.731914   \n",
       "8        XGBoost classifier        0.729597   \n",
       "9           LGBM classifier        0.732245   \n",
       "10          LGBM classifier        0.729382   \n",
       "\n",
       "                                      best parameters  \\\n",
       "0               {'classifier__C': 15.922827933410922}   \n",
       "1               {'classifier__C': 15.922827933410922}   \n",
       "2                    {'classifier__n_neighbors': 291}   \n",
       "3                    {'classifier__n_neighbors': 291}   \n",
       "4                    {'classifier__n_neighbors': 293}   \n",
       "5   {'classifier__n_estimators': 65, 'classifier__...   \n",
       "6   {'classifier__n_estimators': 50, 'classifier__...   \n",
       "7   {'classifier__n_estimators': 60, 'classifier__...   \n",
       "8   {'classifier__n_estimators': 25, 'classifier__...   \n",
       "9   {'classifier__n_estimators': 60, 'classifier__...   \n",
       "10  {'classifier__n_estimators': 60, 'classifier__...   \n",
       "\n",
       "                                           Best model  Refit Time(s)  \\\n",
       "0   (SMOTE(random_state=4), LogisticRegression(C=1...      35.559556   \n",
       "1   (RandomUnderSampler(random_state=4), LogisticR...       2.073801   \n",
       "2   (SMOTE(random_state=4), KNeighborsClassifier(n...       0.390617   \n",
       "3   (SMOTE(random_state=4), KNeighborsClassifier(n...       0.390617   \n",
       "4   (RandomUnderSampler(random_state=4), KNeighbor...       0.015625   \n",
       "5   (SMOTE(random_state=4), (DecisionTreeClassifie...      10.386787   \n",
       "6   (RandomUnderSampler(random_state=4), (Decision...       0.453113   \n",
       "7   (SMOTE(random_state=4), XGBClassifier(base_sco...      30.916036   \n",
       "8   (RandomUnderSampler(random_state=4), XGBClassi...       0.766528   \n",
       "9   (SMOTE(random_state=4), LGBMClassifier(max_dep...       6.158206   \n",
       "10  (RandomUnderSampler(random_state=4), LGBMClass...       0.948415   \n",
       "\n",
       "                                          Comment  \n",
       "0                SMOTE(random_state=4) train data  \n",
       "1   RandomUnderSampler(random_state=4) train data  \n",
       "2                SMOTE(random_state=4) train data  \n",
       "3                SMOTE(random_state=4) train data  \n",
       "4   RandomUnderSampler(random_state=4) train data  \n",
       "5                SMOTE(random_state=4) train data  \n",
       "6   RandomUnderSampler(random_state=4) train data  \n",
       "7                SMOTE(random_state=4) train data  \n",
       "8   RandomUnderSampler(random_state=4) train data  \n",
       "9                SMOTE(random_state=4) train data  \n",
       "10  RandomUnderSampler(random_state=4) train data  "
      ]
     },
     "execution_count": 26,
     "metadata": {},
     "output_type": "execute_result"
    }
   ],
   "source": [
    " df_scores_CV5_1"
   ]
  },
  {
   "cell_type": "markdown",
   "id": "fc038e70",
   "metadata": {
    "papermill": {
     "duration": 0.037526,
     "end_time": "2021-12-18T12:01:39.884317",
     "exception": false,
     "start_time": "2021-12-18T12:01:39.846791",
     "status": "completed"
    },
    "tags": []
   },
   "source": [
    "####  2.3. RandomForest Classifier"
   ]
  },
  {
   "cell_type": "code",
   "execution_count": 14,
   "id": "dedc2f2f",
   "metadata": {
    "execution": {
     "iopub.execute_input": "2021-12-18T12:01:39.962166Z",
     "iopub.status.busy": "2021-12-18T12:01:39.961356Z",
     "iopub.status.idle": "2021-12-18T12:03:41.918204Z",
     "shell.execute_reply": "2021-12-18T12:03:41.917619Z",
     "shell.execute_reply.started": "2021-12-17T20:49:14.765923Z"
    },
    "papermill": {
     "duration": 121.997217,
     "end_time": "2021-12-18T12:03:41.918353",
     "exception": false,
     "start_time": "2021-12-18T12:01:39.921136",
     "status": "completed"
    },
    "tags": []
   },
   "outputs": [
    {
     "name": "stdout",
     "output_type": "stream",
     "text": [
      "RandomSearchCV execution time(s): 67.9321939945221\n"
     ]
    },
    {
     "data": {
      "text/html": [
       "<div>\n",
       "<style scoped>\n",
       "    .dataframe tbody tr th:only-of-type {\n",
       "        vertical-align: middle;\n",
       "    }\n",
       "\n",
       "    .dataframe tbody tr th {\n",
       "        vertical-align: top;\n",
       "    }\n",
       "\n",
       "    .dataframe thead th {\n",
       "        text-align: right;\n",
       "    }\n",
       "</style>\n",
       "<table border=\"1\" class=\"dataframe\">\n",
       "  <thead>\n",
       "    <tr style=\"text-align: right;\">\n",
       "      <th></th>\n",
       "      <th>model</th>\n",
       "      <th>best_score AUC</th>\n",
       "      <th>best parameters</th>\n",
       "      <th>Best model</th>\n",
       "      <th>Refit Time(s)</th>\n",
       "      <th>Comment</th>\n",
       "    </tr>\n",
       "  </thead>\n",
       "  <tbody>\n",
       "    <tr>\n",
       "      <th>0</th>\n",
       "      <td>Logistic_Regression</td>\n",
       "      <td>0.684624</td>\n",
       "      <td>{'classifier__C': 15.922827933410922}</td>\n",
       "      <td>(SMOTE(random_state=4), LogisticRegression(C=1...</td>\n",
       "      <td>35.559556</td>\n",
       "      <td>SMOTE(random_state=4) train data</td>\n",
       "    </tr>\n",
       "    <tr>\n",
       "      <th>1</th>\n",
       "      <td>Logistic_Regression</td>\n",
       "      <td>0.651584</td>\n",
       "      <td>{'classifier__C': 15.922827933410922}</td>\n",
       "      <td>(RandomUnderSampler(random_state=4), LogisticR...</td>\n",
       "      <td>2.073801</td>\n",
       "      <td>RandomUnderSampler(random_state=4) train data</td>\n",
       "    </tr>\n",
       "    <tr>\n",
       "      <th>2</th>\n",
       "      <td>Kneighbors classifier</td>\n",
       "      <td>0.591673</td>\n",
       "      <td>{'classifier__n_neighbors': 291}</td>\n",
       "      <td>(SMOTE(random_state=4), KNeighborsClassifier(n...</td>\n",
       "      <td>0.390617</td>\n",
       "      <td>SMOTE(random_state=4) train data</td>\n",
       "    </tr>\n",
       "    <tr>\n",
       "      <th>3</th>\n",
       "      <td>Kneighbors classifier</td>\n",
       "      <td>0.591673</td>\n",
       "      <td>{'classifier__n_neighbors': 291}</td>\n",
       "      <td>(SMOTE(random_state=4), KNeighborsClassifier(n...</td>\n",
       "      <td>0.390617</td>\n",
       "      <td>SMOTE(random_state=4) train data</td>\n",
       "    </tr>\n",
       "    <tr>\n",
       "      <th>4</th>\n",
       "      <td>Kneighbors classifier</td>\n",
       "      <td>0.671466</td>\n",
       "      <td>{'classifier__n_neighbors': 293}</td>\n",
       "      <td>(RandomUnderSampler(random_state=4), KNeighbor...</td>\n",
       "      <td>0.015625</td>\n",
       "      <td>RandomUnderSampler(random_state=4) train data</td>\n",
       "    </tr>\n",
       "    <tr>\n",
       "      <th>5</th>\n",
       "      <td>RandomForest classifier</td>\n",
       "      <td>0.685239</td>\n",
       "      <td>{'classifier__n_estimators': 65, 'classifier__...</td>\n",
       "      <td>(SMOTE(random_state=4), (DecisionTreeClassifie...</td>\n",
       "      <td>10.386787</td>\n",
       "      <td>SMOTE(random_state=4) train data</td>\n",
       "    </tr>\n",
       "    <tr>\n",
       "      <th>6</th>\n",
       "      <td>RandomForest classifier</td>\n",
       "      <td>0.719367</td>\n",
       "      <td>{'classifier__n_estimators': 50, 'classifier__...</td>\n",
       "      <td>(RandomUnderSampler(random_state=4), (Decision...</td>\n",
       "      <td>0.453113</td>\n",
       "      <td>RandomUnderSampler(random_state=4) train data</td>\n",
       "    </tr>\n",
       "  </tbody>\n",
       "</table>\n",
       "</div>"
      ],
      "text/plain": [
       "                     model  best_score AUC  \\\n",
       "0      Logistic_Regression        0.684624   \n",
       "1      Logistic_Regression        0.651584   \n",
       "2    Kneighbors classifier        0.591673   \n",
       "3    Kneighbors classifier        0.591673   \n",
       "4    Kneighbors classifier        0.671466   \n",
       "5  RandomForest classifier        0.685239   \n",
       "6  RandomForest classifier        0.719367   \n",
       "\n",
       "                                     best parameters  \\\n",
       "0              {'classifier__C': 15.922827933410922}   \n",
       "1              {'classifier__C': 15.922827933410922}   \n",
       "2                   {'classifier__n_neighbors': 291}   \n",
       "3                   {'classifier__n_neighbors': 291}   \n",
       "4                   {'classifier__n_neighbors': 293}   \n",
       "5  {'classifier__n_estimators': 65, 'classifier__...   \n",
       "6  {'classifier__n_estimators': 50, 'classifier__...   \n",
       "\n",
       "                                          Best model  Refit Time(s)  \\\n",
       "0  (SMOTE(random_state=4), LogisticRegression(C=1...      35.559556   \n",
       "1  (RandomUnderSampler(random_state=4), LogisticR...       2.073801   \n",
       "2  (SMOTE(random_state=4), KNeighborsClassifier(n...       0.390617   \n",
       "3  (SMOTE(random_state=4), KNeighborsClassifier(n...       0.390617   \n",
       "4  (RandomUnderSampler(random_state=4), KNeighbor...       0.015625   \n",
       "5  (SMOTE(random_state=4), (DecisionTreeClassifie...      10.386787   \n",
       "6  (RandomUnderSampler(random_state=4), (Decision...       0.453113   \n",
       "\n",
       "                                         Comment  \n",
       "0               SMOTE(random_state=4) train data  \n",
       "1  RandomUnderSampler(random_state=4) train data  \n",
       "2               SMOTE(random_state=4) train data  \n",
       "3               SMOTE(random_state=4) train data  \n",
       "4  RandomUnderSampler(random_state=4) train data  \n",
       "5               SMOTE(random_state=4) train data  \n",
       "6  RandomUnderSampler(random_state=4) train data  "
      ]
     },
     "execution_count": 14,
     "metadata": {},
     "output_type": "execute_result"
    }
   ],
   "source": [
    "# create the imblearn pipeline and grid parameters\n",
    "# be carefull be sure to use pipeline from imblearn to use SMOTE sampler, it will not evaluate result on y_test create with it\n",
    "time_init = time.time()\n",
    "scores_CV5_1 = list()\n",
    "for sampler in [smote, rus]:\n",
    "    pipe = Pipeline([('Sampling', sampler), ('classifier', RandomForestClassifier(random_state=4))])\n",
    "    param_grid1 = {'classifier__n_estimators':range(5,70,5), 'classifier__max_depth': [5, 7, 10]}\n",
    "    # perfomring rand search CV\n",
    "    gride_mod = RandomizedSearchCV(pipe, param_distributions = param_grid1, cv = 5, scoring='roc_auc', n_iter=10, n_jobs=-1, random_state=4)\n",
    "    gride_mod.fit(X1_train, y1_train)\n",
    "    scores_CV5_1.append({'model':'RandomForest classifier', 'best_score AUC':gride_mod.best_score_, 'best parameters':gride_mod.best_params_,\n",
    "                       'Best model':gride_mod.best_estimator_,'Refit Time(s)':gride_mod.refit_time_, 'Comment':f'{sampler} train data'})\n",
    "\n",
    "# create df results\n",
    "print(f'RandomSearchCV execution time(s): {time.time() - time_init}')\n",
    "df_scores_CV5_1 = df_scores_CV5_1.append(scores_CV5_1, ignore_index=True)\n",
    "df_scores_CV5_1"
   ]
  },
  {
   "cell_type": "markdown",
   "id": "e941007f",
   "metadata": {
    "papermill": {
     "duration": 0.038855,
     "end_time": "2021-12-18T12:03:41.994911",
     "exception": false,
     "start_time": "2021-12-18T12:03:41.956056",
     "status": "completed"
    },
    "tags": []
   },
   "source": [
    "####  2.4. XGBoost classifier"
   ]
  },
  {
   "cell_type": "code",
   "execution_count": 15,
   "id": "8a121eba",
   "metadata": {
    "execution": {
     "iopub.execute_input": "2021-12-18T12:03:42.081124Z",
     "iopub.status.busy": "2021-12-18T12:03:42.080428Z",
     "iopub.status.idle": "2021-12-18T12:43:47.152905Z",
     "shell.execute_reply": "2021-12-18T12:43:47.152368Z",
     "shell.execute_reply.started": "2021-12-17T20:51:25.685858Z"
    },
    "papermill": {
     "duration": 2405.119646,
     "end_time": "2021-12-18T12:43:47.153047",
     "exception": false,
     "start_time": "2021-12-18T12:03:42.033401",
     "status": "completed"
    },
    "tags": []
   },
   "outputs": [
    {
     "name": "stdout",
     "output_type": "stream",
     "text": [
      "RandomSearchCV execution time(s): 720.9838423728943\n"
     ]
    },
    {
     "data": {
      "text/html": [
       "<div>\n",
       "<style scoped>\n",
       "    .dataframe tbody tr th:only-of-type {\n",
       "        vertical-align: middle;\n",
       "    }\n",
       "\n",
       "    .dataframe tbody tr th {\n",
       "        vertical-align: top;\n",
       "    }\n",
       "\n",
       "    .dataframe thead th {\n",
       "        text-align: right;\n",
       "    }\n",
       "</style>\n",
       "<table border=\"1\" class=\"dataframe\">\n",
       "  <thead>\n",
       "    <tr style=\"text-align: right;\">\n",
       "      <th></th>\n",
       "      <th>model</th>\n",
       "      <th>best_score AUC</th>\n",
       "      <th>best parameters</th>\n",
       "      <th>Best model</th>\n",
       "      <th>Refit Time(s)</th>\n",
       "      <th>Comment</th>\n",
       "    </tr>\n",
       "  </thead>\n",
       "  <tbody>\n",
       "    <tr>\n",
       "      <th>0</th>\n",
       "      <td>Logistic_Regression</td>\n",
       "      <td>0.684624</td>\n",
       "      <td>{'classifier__C': 15.922827933410922}</td>\n",
       "      <td>(SMOTE(random_state=4), LogisticRegression(C=1...</td>\n",
       "      <td>35.559556</td>\n",
       "      <td>SMOTE(random_state=4) train data</td>\n",
       "    </tr>\n",
       "    <tr>\n",
       "      <th>1</th>\n",
       "      <td>Logistic_Regression</td>\n",
       "      <td>0.651584</td>\n",
       "      <td>{'classifier__C': 15.922827933410922}</td>\n",
       "      <td>(RandomUnderSampler(random_state=4), LogisticR...</td>\n",
       "      <td>2.073801</td>\n",
       "      <td>RandomUnderSampler(random_state=4) train data</td>\n",
       "    </tr>\n",
       "    <tr>\n",
       "      <th>2</th>\n",
       "      <td>Kneighbors classifier</td>\n",
       "      <td>0.591673</td>\n",
       "      <td>{'classifier__n_neighbors': 291}</td>\n",
       "      <td>(SMOTE(random_state=4), KNeighborsClassifier(n...</td>\n",
       "      <td>0.390617</td>\n",
       "      <td>SMOTE(random_state=4) train data</td>\n",
       "    </tr>\n",
       "    <tr>\n",
       "      <th>3</th>\n",
       "      <td>Kneighbors classifier</td>\n",
       "      <td>0.591673</td>\n",
       "      <td>{'classifier__n_neighbors': 291}</td>\n",
       "      <td>(SMOTE(random_state=4), KNeighborsClassifier(n...</td>\n",
       "      <td>0.390617</td>\n",
       "      <td>SMOTE(random_state=4) train data</td>\n",
       "    </tr>\n",
       "    <tr>\n",
       "      <th>4</th>\n",
       "      <td>Kneighbors classifier</td>\n",
       "      <td>0.671466</td>\n",
       "      <td>{'classifier__n_neighbors': 293}</td>\n",
       "      <td>(RandomUnderSampler(random_state=4), KNeighbor...</td>\n",
       "      <td>0.015625</td>\n",
       "      <td>RandomUnderSampler(random_state=4) train data</td>\n",
       "    </tr>\n",
       "    <tr>\n",
       "      <th>5</th>\n",
       "      <td>RandomForest classifier</td>\n",
       "      <td>0.685239</td>\n",
       "      <td>{'classifier__n_estimators': 65, 'classifier__...</td>\n",
       "      <td>(SMOTE(random_state=4), (DecisionTreeClassifie...</td>\n",
       "      <td>10.386787</td>\n",
       "      <td>SMOTE(random_state=4) train data</td>\n",
       "    </tr>\n",
       "    <tr>\n",
       "      <th>6</th>\n",
       "      <td>RandomForest classifier</td>\n",
       "      <td>0.719367</td>\n",
       "      <td>{'classifier__n_estimators': 50, 'classifier__...</td>\n",
       "      <td>(RandomUnderSampler(random_state=4), (Decision...</td>\n",
       "      <td>0.453113</td>\n",
       "      <td>RandomUnderSampler(random_state=4) train data</td>\n",
       "    </tr>\n",
       "    <tr>\n",
       "      <th>7</th>\n",
       "      <td>XGBoost classifier</td>\n",
       "      <td>0.731914</td>\n",
       "      <td>{'classifier__n_estimators': 60, 'classifier__...</td>\n",
       "      <td>(SMOTE(random_state=4), XGBClassifier(base_sco...</td>\n",
       "      <td>30.916036</td>\n",
       "      <td>SMOTE(random_state=4) train data</td>\n",
       "    </tr>\n",
       "    <tr>\n",
       "      <th>8</th>\n",
       "      <td>XGBoost classifier</td>\n",
       "      <td>0.729597</td>\n",
       "      <td>{'classifier__n_estimators': 25, 'classifier__...</td>\n",
       "      <td>(RandomUnderSampler(random_state=4), XGBClassi...</td>\n",
       "      <td>0.766528</td>\n",
       "      <td>RandomUnderSampler(random_state=4) train data</td>\n",
       "    </tr>\n",
       "  </tbody>\n",
       "</table>\n",
       "</div>"
      ],
      "text/plain": [
       "                     model  best_score AUC  \\\n",
       "0      Logistic_Regression        0.684624   \n",
       "1      Logistic_Regression        0.651584   \n",
       "2    Kneighbors classifier        0.591673   \n",
       "3    Kneighbors classifier        0.591673   \n",
       "4    Kneighbors classifier        0.671466   \n",
       "5  RandomForest classifier        0.685239   \n",
       "6  RandomForest classifier        0.719367   \n",
       "7       XGBoost classifier        0.731914   \n",
       "8       XGBoost classifier        0.729597   \n",
       "\n",
       "                                     best parameters  \\\n",
       "0              {'classifier__C': 15.922827933410922}   \n",
       "1              {'classifier__C': 15.922827933410922}   \n",
       "2                   {'classifier__n_neighbors': 291}   \n",
       "3                   {'classifier__n_neighbors': 291}   \n",
       "4                   {'classifier__n_neighbors': 293}   \n",
       "5  {'classifier__n_estimators': 65, 'classifier__...   \n",
       "6  {'classifier__n_estimators': 50, 'classifier__...   \n",
       "7  {'classifier__n_estimators': 60, 'classifier__...   \n",
       "8  {'classifier__n_estimators': 25, 'classifier__...   \n",
       "\n",
       "                                          Best model  Refit Time(s)  \\\n",
       "0  (SMOTE(random_state=4), LogisticRegression(C=1...      35.559556   \n",
       "1  (RandomUnderSampler(random_state=4), LogisticR...       2.073801   \n",
       "2  (SMOTE(random_state=4), KNeighborsClassifier(n...       0.390617   \n",
       "3  (SMOTE(random_state=4), KNeighborsClassifier(n...       0.390617   \n",
       "4  (RandomUnderSampler(random_state=4), KNeighbor...       0.015625   \n",
       "5  (SMOTE(random_state=4), (DecisionTreeClassifie...      10.386787   \n",
       "6  (RandomUnderSampler(random_state=4), (Decision...       0.453113   \n",
       "7  (SMOTE(random_state=4), XGBClassifier(base_sco...      30.916036   \n",
       "8  (RandomUnderSampler(random_state=4), XGBClassi...       0.766528   \n",
       "\n",
       "                                         Comment  \n",
       "0               SMOTE(random_state=4) train data  \n",
       "1  RandomUnderSampler(random_state=4) train data  \n",
       "2               SMOTE(random_state=4) train data  \n",
       "3               SMOTE(random_state=4) train data  \n",
       "4  RandomUnderSampler(random_state=4) train data  \n",
       "5               SMOTE(random_state=4) train data  \n",
       "6  RandomUnderSampler(random_state=4) train data  \n",
       "7               SMOTE(random_state=4) train data  \n",
       "8  RandomUnderSampler(random_state=4) train data  "
      ]
     },
     "execution_count": 15,
     "metadata": {},
     "output_type": "execute_result"
    }
   ],
   "source": [
    "# create the imblearn pipeline and grid parameters\n",
    "# be carefull be sure to use pipeline from imblearn to use SMOTE sampler, it will not evaluate result on y_test create with it\n",
    "time_init = time.time()\n",
    "scores_CV5_1 = list()\n",
    "for sampler in [smote, rus]:\n",
    "    pipe = Pipeline([('Sampling', sampler), ('classifier', XGBClassifier(use_label_encoder=False, random_state=4, eval_metric='mlogloss'))])\n",
    "    param_grid1 = {'classifier__n_estimators':range(5,70,5), 'classifier__max_depth': [5, 7, 10], 'classifier__learning_rate':[0.1, 0.5]}\n",
    "    # perfomring rand search CV\n",
    "    gride_mod = RandomizedSearchCV(pipe, param_distributions = param_grid1, cv = 5, scoring='roc_auc', n_iter=10, n_jobs=-1, random_state=4)\n",
    "    gride_mod.fit(X1_train, y1_train)\n",
    "    scores_CV5_1.append({'model':'XGBoost classifier', 'best_score AUC':gride_mod.best_score_, 'best parameters':gride_mod.best_params_,\n",
    "                       'Best model':gride_mod.best_estimator_,'Refit Time(s)':gride_mod.refit_time_, 'Comment':f'{sampler} train data'})\n",
    "\n",
    "# create df results\n",
    "print(f'RandomSearchCV execution time(s): {time.time() - time_init}')\n",
    "df_scores_CV5_1 = df_scores_CV5_1.append(scores_CV5_1, ignore_index=True)\n",
    "df_scores_CV5_1"
   ]
  },
  {
   "cell_type": "markdown",
   "id": "257badf8",
   "metadata": {
    "papermill": {
     "duration": 0.037851,
     "end_time": "2021-12-18T12:43:47.229742",
     "exception": false,
     "start_time": "2021-12-18T12:43:47.191891",
     "status": "completed"
    },
    "tags": []
   },
   "source": [
    "####  2.5. LGBM classifier"
   ]
  },
  {
   "cell_type": "code",
   "execution_count": 16,
   "id": "e8acd332",
   "metadata": {
    "execution": {
     "iopub.execute_input": "2021-12-18T12:43:47.315750Z",
     "iopub.status.busy": "2021-12-18T12:43:47.315107Z",
     "iopub.status.idle": "2021-12-18T12:46:55.818187Z",
     "shell.execute_reply": "2021-12-18T12:46:55.817330Z",
     "shell.execute_reply.started": "2021-12-17T21:33:18.273673Z"
    },
    "papermill": {
     "duration": 188.550378,
     "end_time": "2021-12-18T12:46:55.818405",
     "exception": false,
     "start_time": "2021-12-18T12:43:47.268027",
     "status": "completed"
    },
    "tags": []
   },
   "outputs": [
    {
     "name": "stdout",
     "output_type": "stream",
     "text": [
      "RandomSearchCV execution time(s): 168.84985613822937\n"
     ]
    },
    {
     "data": {
      "text/html": [
       "<div>\n",
       "<style scoped>\n",
       "    .dataframe tbody tr th:only-of-type {\n",
       "        vertical-align: middle;\n",
       "    }\n",
       "\n",
       "    .dataframe tbody tr th {\n",
       "        vertical-align: top;\n",
       "    }\n",
       "\n",
       "    .dataframe thead th {\n",
       "        text-align: right;\n",
       "    }\n",
       "</style>\n",
       "<table border=\"1\" class=\"dataframe\">\n",
       "  <thead>\n",
       "    <tr style=\"text-align: right;\">\n",
       "      <th></th>\n",
       "      <th>model</th>\n",
       "      <th>best_score AUC</th>\n",
       "      <th>best parameters</th>\n",
       "      <th>Best model</th>\n",
       "      <th>Refit Time(s)</th>\n",
       "      <th>Comment</th>\n",
       "    </tr>\n",
       "  </thead>\n",
       "  <tbody>\n",
       "    <tr>\n",
       "      <th>0</th>\n",
       "      <td>Logistic_Regression</td>\n",
       "      <td>0.684624</td>\n",
       "      <td>{'classifier__C': 15.922827933410922}</td>\n",
       "      <td>(SMOTE(random_state=4), LogisticRegression(C=1...</td>\n",
       "      <td>35.559556</td>\n",
       "      <td>SMOTE(random_state=4) train data</td>\n",
       "    </tr>\n",
       "    <tr>\n",
       "      <th>1</th>\n",
       "      <td>Logistic_Regression</td>\n",
       "      <td>0.651584</td>\n",
       "      <td>{'classifier__C': 15.922827933410922}</td>\n",
       "      <td>(RandomUnderSampler(random_state=4), LogisticR...</td>\n",
       "      <td>2.073801</td>\n",
       "      <td>RandomUnderSampler(random_state=4) train data</td>\n",
       "    </tr>\n",
       "    <tr>\n",
       "      <th>2</th>\n",
       "      <td>Kneighbors classifier</td>\n",
       "      <td>0.591673</td>\n",
       "      <td>{'classifier__n_neighbors': 291}</td>\n",
       "      <td>(SMOTE(random_state=4), KNeighborsClassifier(n...</td>\n",
       "      <td>0.390617</td>\n",
       "      <td>SMOTE(random_state=4) train data</td>\n",
       "    </tr>\n",
       "    <tr>\n",
       "      <th>3</th>\n",
       "      <td>Kneighbors classifier</td>\n",
       "      <td>0.591673</td>\n",
       "      <td>{'classifier__n_neighbors': 291}</td>\n",
       "      <td>(SMOTE(random_state=4), KNeighborsClassifier(n...</td>\n",
       "      <td>0.390617</td>\n",
       "      <td>SMOTE(random_state=4) train data</td>\n",
       "    </tr>\n",
       "    <tr>\n",
       "      <th>4</th>\n",
       "      <td>Kneighbors classifier</td>\n",
       "      <td>0.671466</td>\n",
       "      <td>{'classifier__n_neighbors': 293}</td>\n",
       "      <td>(RandomUnderSampler(random_state=4), KNeighbor...</td>\n",
       "      <td>0.015625</td>\n",
       "      <td>RandomUnderSampler(random_state=4) train data</td>\n",
       "    </tr>\n",
       "    <tr>\n",
       "      <th>5</th>\n",
       "      <td>RandomForest classifier</td>\n",
       "      <td>0.685239</td>\n",
       "      <td>{'classifier__n_estimators': 65, 'classifier__...</td>\n",
       "      <td>(SMOTE(random_state=4), (DecisionTreeClassifie...</td>\n",
       "      <td>10.386787</td>\n",
       "      <td>SMOTE(random_state=4) train data</td>\n",
       "    </tr>\n",
       "    <tr>\n",
       "      <th>6</th>\n",
       "      <td>RandomForest classifier</td>\n",
       "      <td>0.719367</td>\n",
       "      <td>{'classifier__n_estimators': 50, 'classifier__...</td>\n",
       "      <td>(RandomUnderSampler(random_state=4), (Decision...</td>\n",
       "      <td>0.453113</td>\n",
       "      <td>RandomUnderSampler(random_state=4) train data</td>\n",
       "    </tr>\n",
       "    <tr>\n",
       "      <th>7</th>\n",
       "      <td>XGBoost classifier</td>\n",
       "      <td>0.731914</td>\n",
       "      <td>{'classifier__n_estimators': 60, 'classifier__...</td>\n",
       "      <td>(SMOTE(random_state=4), XGBClassifier(base_sco...</td>\n",
       "      <td>30.916036</td>\n",
       "      <td>SMOTE(random_state=4) train data</td>\n",
       "    </tr>\n",
       "    <tr>\n",
       "      <th>8</th>\n",
       "      <td>XGBoost classifier</td>\n",
       "      <td>0.729597</td>\n",
       "      <td>{'classifier__n_estimators': 25, 'classifier__...</td>\n",
       "      <td>(RandomUnderSampler(random_state=4), XGBClassi...</td>\n",
       "      <td>0.766528</td>\n",
       "      <td>RandomUnderSampler(random_state=4) train data</td>\n",
       "    </tr>\n",
       "    <tr>\n",
       "      <th>9</th>\n",
       "      <td>LGBM classifier</td>\n",
       "      <td>0.732245</td>\n",
       "      <td>{'classifier__n_estimators': 60, 'classifier__...</td>\n",
       "      <td>(SMOTE(random_state=4), LGBMClassifier(max_dep...</td>\n",
       "      <td>6.158206</td>\n",
       "      <td>SMOTE(random_state=4) train data</td>\n",
       "    </tr>\n",
       "    <tr>\n",
       "      <th>10</th>\n",
       "      <td>LGBM classifier</td>\n",
       "      <td>0.729382</td>\n",
       "      <td>{'classifier__n_estimators': 60, 'classifier__...</td>\n",
       "      <td>(RandomUnderSampler(random_state=4), LGBMClass...</td>\n",
       "      <td>0.948415</td>\n",
       "      <td>RandomUnderSampler(random_state=4) train data</td>\n",
       "    </tr>\n",
       "  </tbody>\n",
       "</table>\n",
       "</div>"
      ],
      "text/plain": [
       "                      model  best_score AUC  \\\n",
       "0       Logistic_Regression        0.684624   \n",
       "1       Logistic_Regression        0.651584   \n",
       "2     Kneighbors classifier        0.591673   \n",
       "3     Kneighbors classifier        0.591673   \n",
       "4     Kneighbors classifier        0.671466   \n",
       "5   RandomForest classifier        0.685239   \n",
       "6   RandomForest classifier        0.719367   \n",
       "7        XGBoost classifier        0.731914   \n",
       "8        XGBoost classifier        0.729597   \n",
       "9           LGBM classifier        0.732245   \n",
       "10          LGBM classifier        0.729382   \n",
       "\n",
       "                                      best parameters  \\\n",
       "0               {'classifier__C': 15.922827933410922}   \n",
       "1               {'classifier__C': 15.922827933410922}   \n",
       "2                    {'classifier__n_neighbors': 291}   \n",
       "3                    {'classifier__n_neighbors': 291}   \n",
       "4                    {'classifier__n_neighbors': 293}   \n",
       "5   {'classifier__n_estimators': 65, 'classifier__...   \n",
       "6   {'classifier__n_estimators': 50, 'classifier__...   \n",
       "7   {'classifier__n_estimators': 60, 'classifier__...   \n",
       "8   {'classifier__n_estimators': 25, 'classifier__...   \n",
       "9   {'classifier__n_estimators': 60, 'classifier__...   \n",
       "10  {'classifier__n_estimators': 60, 'classifier__...   \n",
       "\n",
       "                                           Best model  Refit Time(s)  \\\n",
       "0   (SMOTE(random_state=4), LogisticRegression(C=1...      35.559556   \n",
       "1   (RandomUnderSampler(random_state=4), LogisticR...       2.073801   \n",
       "2   (SMOTE(random_state=4), KNeighborsClassifier(n...       0.390617   \n",
       "3   (SMOTE(random_state=4), KNeighborsClassifier(n...       0.390617   \n",
       "4   (RandomUnderSampler(random_state=4), KNeighbor...       0.015625   \n",
       "5   (SMOTE(random_state=4), (DecisionTreeClassifie...      10.386787   \n",
       "6   (RandomUnderSampler(random_state=4), (Decision...       0.453113   \n",
       "7   (SMOTE(random_state=4), XGBClassifier(base_sco...      30.916036   \n",
       "8   (RandomUnderSampler(random_state=4), XGBClassi...       0.766528   \n",
       "9   (SMOTE(random_state=4), LGBMClassifier(max_dep...       6.158206   \n",
       "10  (RandomUnderSampler(random_state=4), LGBMClass...       0.948415   \n",
       "\n",
       "                                          Comment  \n",
       "0                SMOTE(random_state=4) train data  \n",
       "1   RandomUnderSampler(random_state=4) train data  \n",
       "2                SMOTE(random_state=4) train data  \n",
       "3                SMOTE(random_state=4) train data  \n",
       "4   RandomUnderSampler(random_state=4) train data  \n",
       "5                SMOTE(random_state=4) train data  \n",
       "6   RandomUnderSampler(random_state=4) train data  \n",
       "7                SMOTE(random_state=4) train data  \n",
       "8   RandomUnderSampler(random_state=4) train data  \n",
       "9                SMOTE(random_state=4) train data  \n",
       "10  RandomUnderSampler(random_state=4) train data  "
      ]
     },
     "execution_count": 16,
     "metadata": {},
     "output_type": "execute_result"
    }
   ],
   "source": [
    "# create the imblearn pipeline and grid parameters\n",
    "# be carefull be sure to use pipeline from imblearn to use SMOTE sampler, it will not evaluate result on y_test create with it\n",
    "time_init = time.time()\n",
    "scores_CV5_1 = list()\n",
    "for sampler in [smote, rus]:\n",
    "    pipe = Pipeline([('Sampling', sampler), ('classifier', LGBMClassifier(random_state=4))])\n",
    "    param_grid1 = {'classifier__n_estimators':range(5,70,5), 'classifier__max_depth': [5, 7, 10], 'classifier__learning_rate':[0.1, 0.5]}\n",
    "    # perfomring rand search CV\n",
    "    gride_mod = RandomizedSearchCV(pipe, param_distributions = param_grid1, cv = 5, scoring='roc_auc', n_iter=10, n_jobs=-1, random_state=4)\n",
    "    gride_mod.fit(X1_train, y1_train)\n",
    "    scores_CV5_1.append({'model':'LGBM classifier', 'best_score AUC':gride_mod.best_score_, 'best parameters':gride_mod.best_params_,\n",
    "                       'Best model':gride_mod.best_estimator_,'Refit Time(s)':gride_mod.refit_time_, 'Comment':f'{sampler} train data'})\n",
    "\n",
    "# create df results\n",
    "print(f'RandomSearchCV execution time(s): {time.time() - time_init}')\n",
    "df_scores_CV5_1 = df_scores_CV5_1.append(scores_CV5_1, ignore_index=True)\n",
    "df_scores_CV5_1"
   ]
  },
  {
   "cell_type": "markdown",
   "id": "479508b6",
   "metadata": {
    "papermill": {
     "duration": 0.046218,
     "end_time": "2021-12-18T12:46:55.913626",
     "exception": false,
     "start_time": "2021-12-18T12:46:55.867408",
     "status": "completed"
    },
    "tags": []
   },
   "source": [
    " #### Score de validation  sur des données réduites : "
   ]
  },
  {
   "cell_type": "code",
   "execution_count": 17,
   "id": "d4e8ae6f",
   "metadata": {
    "execution": {
     "iopub.execute_input": "2021-12-18T12:46:55.996815Z",
     "iopub.status.busy": "2021-12-18T12:46:55.996144Z",
     "iopub.status.idle": "2021-12-18T12:51:50.181194Z",
     "shell.execute_reply": "2021-12-18T12:51:50.181764Z",
     "shell.execute_reply.started": "2021-12-17T21:38:28.814851Z"
    },
    "papermill": {
     "duration": 294.228545,
     "end_time": "2021-12-18T12:51:50.181985",
     "exception": false,
     "start_time": "2021-12-18T12:46:55.953440",
     "status": "completed"
    },
    "tags": []
   },
   "outputs": [
    {
     "data": {
      "text/html": [
       "<div>\n",
       "<style scoped>\n",
       "    .dataframe tbody tr th:only-of-type {\n",
       "        vertical-align: middle;\n",
       "    }\n",
       "\n",
       "    .dataframe tbody tr th {\n",
       "        vertical-align: top;\n",
       "    }\n",
       "\n",
       "    .dataframe thead th {\n",
       "        text-align: right;\n",
       "    }\n",
       "</style>\n",
       "<table border=\"1\" class=\"dataframe\">\n",
       "  <thead>\n",
       "    <tr style=\"text-align: right;\">\n",
       "      <th></th>\n",
       "      <th>model</th>\n",
       "      <th>Score AUC</th>\n",
       "      <th>F1_score</th>\n",
       "      <th>F2_score</th>\n",
       "      <th>Precision_score</th>\n",
       "      <th>Recall_score</th>\n",
       "      <th>Train Time(s)</th>\n",
       "      <th>Predict Time(s)</th>\n",
       "      <th>Comment</th>\n",
       "    </tr>\n",
       "  </thead>\n",
       "  <tbody>\n",
       "    <tr>\n",
       "      <th>0</th>\n",
       "      <td>Dummy_stratified</td>\n",
       "      <td>0.500000</td>\n",
       "      <td>0.000000</td>\n",
       "      <td>0.000000</td>\n",
       "      <td>0.000000</td>\n",
       "      <td>0.000000</td>\n",
       "      <td>0.001998</td>\n",
       "      <td>0.000000</td>\n",
       "      <td>test data score</td>\n",
       "    </tr>\n",
       "    <tr>\n",
       "      <th>1</th>\n",
       "      <td>Logistic_Regression</td>\n",
       "      <td>0.675796</td>\n",
       "      <td>0.228407</td>\n",
       "      <td>0.333147</td>\n",
       "      <td>0.149874</td>\n",
       "      <td>0.479839</td>\n",
       "      <td>35.559556</td>\n",
       "      <td>0.013994</td>\n",
       "      <td>test data score with SMOTE(random_state=4) tra...</td>\n",
       "    </tr>\n",
       "    <tr>\n",
       "      <th>2</th>\n",
       "      <td>Logistic_Regression</td>\n",
       "      <td>0.651985</td>\n",
       "      <td>0.208814</td>\n",
       "      <td>0.347003</td>\n",
       "      <td>0.125509</td>\n",
       "      <td>0.620968</td>\n",
       "      <td>2.073801</td>\n",
       "      <td>0.006005</td>\n",
       "      <td>test data score with RandomUnderSampler(random...</td>\n",
       "    </tr>\n",
       "    <tr>\n",
       "      <th>3</th>\n",
       "      <td>Kneighbors classifier</td>\n",
       "      <td>0.561193</td>\n",
       "      <td>0.150459</td>\n",
       "      <td>0.306428</td>\n",
       "      <td>0.081403</td>\n",
       "      <td>0.991935</td>\n",
       "      <td>0.390617</td>\n",
       "      <td>3.088101</td>\n",
       "      <td>test data score with SMOTE(random_state=4) tra...</td>\n",
       "    </tr>\n",
       "    <tr>\n",
       "      <th>4</th>\n",
       "      <td>Kneighbors classifier</td>\n",
       "      <td>0.561193</td>\n",
       "      <td>0.150459</td>\n",
       "      <td>0.306428</td>\n",
       "      <td>0.081403</td>\n",
       "      <td>0.991935</td>\n",
       "      <td>0.390617</td>\n",
       "      <td>3.705710</td>\n",
       "      <td>test data score with SMOTE(random_state=4) tra...</td>\n",
       "    </tr>\n",
       "    <tr>\n",
       "      <th>5</th>\n",
       "      <td>Kneighbors classifier</td>\n",
       "      <td>0.684311</td>\n",
       "      <td>0.260123</td>\n",
       "      <td>0.339962</td>\n",
       "      <td>0.186949</td>\n",
       "      <td>0.427419</td>\n",
       "      <td>0.015625</td>\n",
       "      <td>0.585637</td>\n",
       "      <td>test data score with RandomUnderSampler(random...</td>\n",
       "    </tr>\n",
       "    <tr>\n",
       "      <th>6</th>\n",
       "      <td>RandomForest classifier</td>\n",
       "      <td>0.677536</td>\n",
       "      <td>0.064516</td>\n",
       "      <td>0.047438</td>\n",
       "      <td>0.161290</td>\n",
       "      <td>0.040323</td>\n",
       "      <td>10.386787</td>\n",
       "      <td>0.060962</td>\n",
       "      <td>test data score with SMOTE(random_state=4) tra...</td>\n",
       "    </tr>\n",
       "    <tr>\n",
       "      <th>7</th>\n",
       "      <td>RandomForest classifier</td>\n",
       "      <td>0.744366</td>\n",
       "      <td>0.263602</td>\n",
       "      <td>0.419717</td>\n",
       "      <td>0.162725</td>\n",
       "      <td>0.693548</td>\n",
       "      <td>0.453113</td>\n",
       "      <td>0.034980</td>\n",
       "      <td>test data score with RandomUnderSampler(random...</td>\n",
       "    </tr>\n",
       "    <tr>\n",
       "      <th>8</th>\n",
       "      <td>XGBoost classifier</td>\n",
       "      <td>0.733266</td>\n",
       "      <td>0.037453</td>\n",
       "      <td>0.024728</td>\n",
       "      <td>0.263158</td>\n",
       "      <td>0.020161</td>\n",
       "      <td>30.916036</td>\n",
       "      <td>0.033979</td>\n",
       "      <td>test data score with SMOTE(random_state=4) tra...</td>\n",
       "    </tr>\n",
       "    <tr>\n",
       "      <th>9</th>\n",
       "      <td>XGBoost classifier</td>\n",
       "      <td>0.714046</td>\n",
       "      <td>0.235469</td>\n",
       "      <td>0.378715</td>\n",
       "      <td>0.144424</td>\n",
       "      <td>0.637097</td>\n",
       "      <td>0.766528</td>\n",
       "      <td>0.030980</td>\n",
       "      <td>test data score with RandomUnderSampler(random...</td>\n",
       "    </tr>\n",
       "    <tr>\n",
       "      <th>10</th>\n",
       "      <td>LGBM classifier</td>\n",
       "      <td>0.736953</td>\n",
       "      <td>0.037175</td>\n",
       "      <td>0.024679</td>\n",
       "      <td>0.238095</td>\n",
       "      <td>0.020161</td>\n",
       "      <td>6.158206</td>\n",
       "      <td>0.046971</td>\n",
       "      <td>test data score with SMOTE(random_state=4) tra...</td>\n",
       "    </tr>\n",
       "    <tr>\n",
       "      <th>11</th>\n",
       "      <td>LGBM classifier</td>\n",
       "      <td>0.729890</td>\n",
       "      <td>0.258065</td>\n",
       "      <td>0.410557</td>\n",
       "      <td>0.159393</td>\n",
       "      <td>0.677419</td>\n",
       "      <td>0.948415</td>\n",
       "      <td>0.049970</td>\n",
       "      <td>test data score with RandomUnderSampler(random...</td>\n",
       "    </tr>\n",
       "  </tbody>\n",
       "</table>\n",
       "</div>"
      ],
      "text/plain": [
       "                      model  Score AUC  F1_score  F2_score  Precision_score  \\\n",
       "0          Dummy_stratified   0.500000  0.000000  0.000000         0.000000   \n",
       "1       Logistic_Regression   0.675796  0.228407  0.333147         0.149874   \n",
       "2       Logistic_Regression   0.651985  0.208814  0.347003         0.125509   \n",
       "3     Kneighbors classifier   0.561193  0.150459  0.306428         0.081403   \n",
       "4     Kneighbors classifier   0.561193  0.150459  0.306428         0.081403   \n",
       "5     Kneighbors classifier   0.684311  0.260123  0.339962         0.186949   \n",
       "6   RandomForest classifier   0.677536  0.064516  0.047438         0.161290   \n",
       "7   RandomForest classifier   0.744366  0.263602  0.419717         0.162725   \n",
       "8        XGBoost classifier   0.733266  0.037453  0.024728         0.263158   \n",
       "9        XGBoost classifier   0.714046  0.235469  0.378715         0.144424   \n",
       "10          LGBM classifier   0.736953  0.037175  0.024679         0.238095   \n",
       "11          LGBM classifier   0.729890  0.258065  0.410557         0.159393   \n",
       "\n",
       "    Recall_score  Train Time(s)  Predict Time(s)  \\\n",
       "0       0.000000       0.001998         0.000000   \n",
       "1       0.479839      35.559556         0.013994   \n",
       "2       0.620968       2.073801         0.006005   \n",
       "3       0.991935       0.390617         3.088101   \n",
       "4       0.991935       0.390617         3.705710   \n",
       "5       0.427419       0.015625         0.585637   \n",
       "6       0.040323      10.386787         0.060962   \n",
       "7       0.693548       0.453113         0.034980   \n",
       "8       0.020161      30.916036         0.033979   \n",
       "9       0.637097       0.766528         0.030980   \n",
       "10      0.020161       6.158206         0.046971   \n",
       "11      0.677419       0.948415         0.049970   \n",
       "\n",
       "                                              Comment  \n",
       "0                                     test data score  \n",
       "1   test data score with SMOTE(random_state=4) tra...  \n",
       "2   test data score with RandomUnderSampler(random...  \n",
       "3   test data score with SMOTE(random_state=4) tra...  \n",
       "4   test data score with SMOTE(random_state=4) tra...  \n",
       "5   test data score with RandomUnderSampler(random...  \n",
       "6   test data score with SMOTE(random_state=4) tra...  \n",
       "7   test data score with RandomUnderSampler(random...  \n",
       "8   test data score with SMOTE(random_state=4) tra...  \n",
       "9   test data score with RandomUnderSampler(random...  \n",
       "10  test data score with SMOTE(random_state=4) tra...  \n",
       "11  test data score with RandomUnderSampler(random...  "
      ]
     },
     "execution_count": 17,
     "metadata": {},
     "output_type": "execute_result"
    }
   ],
   "source": [
    "# create list with probability on the validation test\n",
    "y_pred_prob_list = list()\n",
    "# add dummy classifier result to problist for our basline\n",
    "y_pred_prob_list.append(y_pred_pro_dumm_const_1)\n",
    "# Results for each best models with test data\n",
    "for i in df_scores_CV5_1.index:\n",
    "    model = df_scores_CV5_1.iloc[i,3]\n",
    "    time_init = time.time()\n",
    "    time_1 = time.time()\n",
    "    y_pred_model = model.predict(X1_test)\n",
    "    time_2 = time.time()\n",
    "    y_pred_prob_model = model.predict_proba(X1_test)[:,1]\n",
    "    # filling df with results for each models\n",
    "    summary_result = list()\n",
    "    summary_result.append({'model': df_scores_CV5_1.iloc[i, 0], 'Score AUC':roc_auc_score(y1_test, y_pred_prob_model), \n",
    "                       'F1_score': f1_score(y1_test, y_pred_model), 'F2_score': fbeta_score(y1_test, y_pred_model, beta=2),\n",
    "                        'Precision_score': precision_score(y1_test,y_pred_model), 'Recall_score': recall_score(y1_test, y_pred_model),\n",
    "                       'Train Time(s)':df_scores_CV5_1.iloc[i, 4], 'Predict Time(s)': time_2 - time_1 , \n",
    "                        'Comment': f'test data score with {df_scores_CV5_1.iloc[i, 5]}'})\n",
    "    df_summary_result1 = df_summary_result1.append(summary_result, ignore_index=True)\n",
    "    y_pred_prob_list.append(y_pred_prob_model)\n",
    "df_summary_result1"
   ]
  },
  {
   "cell_type": "markdown",
   "id": "51c0144b",
   "metadata": {
    "papermill": {
     "duration": 0.040736,
     "end_time": "2021-12-18T12:51:50.263326",
     "exception": false,
     "start_time": "2021-12-18T12:51:50.222590",
     "status": "completed"
    },
    "tags": []
   },
   "source": [
    "##### Courbes ROC et Precision/Recall sur les données réduites : "
   ]
  },
  {
   "cell_type": "code",
   "execution_count": 18,
   "id": "e0719745",
   "metadata": {
    "execution": {
     "iopub.execute_input": "2021-12-18T12:51:50.354608Z",
     "iopub.status.busy": "2021-12-18T12:51:50.353841Z",
     "iopub.status.idle": "2021-12-18T12:51:50.358561Z",
     "shell.execute_reply": "2021-12-18T12:51:50.359207Z",
     "shell.execute_reply.started": "2021-12-17T21:43:35.115975Z"
    },
    "papermill": {
     "duration": 0.055525,
     "end_time": "2021-12-18T12:51:50.359380",
     "exception": false,
     "start_time": "2021-12-18T12:51:50.303855",
     "status": "completed"
    },
    "tags": []
   },
   "outputs": [],
   "source": [
    "# Function to plot ROC and Precision-Recall curves\n",
    "def ROC_PR_curves(test_labels, list_pred_proba, models_name):\n",
    "    '''Function to plot ROC and PR curves\n",
    "    test_labels --> True labels to predicts, y_test for example 1_D\n",
    "    list_pred_proba --> models predicts probalbility 1-D\n",
    "    models_name --> list of models names in the same order than list_predict_proba'''\n",
    "    # figure init\n",
    "    fig, (ax1, ax2) = plt.subplots(nrows=1, ncols=2, figsize=(15,7))\n",
    "    plt.suptitle('ROC / PR curves for our models (validation data)', fontweight='bold')\n",
    "    ax1.plot([0,1], [0,1], 'k--')\n",
    "    ax2.plot([0,1], [0,0], 'k--')\n",
    "    ax1.set_title('ROC')\n",
    "    ax1.set_xlabel('False Positive Rate')\n",
    "    ax1.set_ylabel('True Positive Rate')\n",
    "    ax2.set_title('Precision / Recall')\n",
    "    ax2.set_xlabel('Recall')\n",
    "    ax2.set_ylabel('Precision')\n",
    "    # counter for getting models names\n",
    "    count=0\n",
    "    for pred_prob in list_pred_proba:\n",
    "        # fpr and tpr calcul\n",
    "        fpr, tpr, _ = roc_curve(test_labels, pred_prob)\n",
    "        # Precision and recall calcul\n",
    "        pr, rec, _ = precision_recall_curve(test_labels, pred_prob)\n",
    "        # Plot ROC curve\n",
    "        ax1.plot(fpr, tpr, label=f'{models_name[count]} / AUC={roc_auc_score(test_labels, pred_prob):.3f}')\n",
    "        # Plot PR curve\n",
    "        ax2.plot(rec, pr, label=models_name[count])\n",
    "        count+=1\n",
    "    ax1.legend()\n",
    "    # ax2.legend() optionnal\n",
    "    plt.show()"
   ]
  },
  {
   "cell_type": "code",
   "execution_count": 19,
   "id": "6bfb37e9",
   "metadata": {
    "execution": {
     "iopub.execute_input": "2021-12-18T12:51:50.446060Z",
     "iopub.status.busy": "2021-12-18T12:51:50.445340Z",
     "iopub.status.idle": "2021-12-18T12:51:51.057575Z",
     "shell.execute_reply": "2021-12-18T12:51:51.058122Z",
     "shell.execute_reply.started": "2021-12-17T21:43:46.60811Z"
    },
    "papermill": {
     "duration": 0.658234,
     "end_time": "2021-12-18T12:51:51.058297",
     "exception": false,
     "start_time": "2021-12-18T12:51:50.400063",
     "status": "completed"
    },
    "tags": []
   },
   "outputs": [
    {
     "data": {
      "image/png": "[encoded data removed]",
      "text/plain": [
       "<Figure size 1080x504 with 2 Axes>"
      ]
     },
     "metadata": {
      "needs_background": "light"
     },
     "output_type": "display_data"
    }
   ],
   "source": [
    "ROC_PR_curves(y1_test, y_pred_prob_list, df_summary_result1['model'])"
   ]
  },
  {
   "cell_type": "markdown",
   "id": "1d15c24a",
   "metadata": {
    "papermill": {
     "duration": 0.044704,
     "end_time": "2021-12-18T12:51:51.148970",
     "exception": false,
     "start_time": "2021-12-18T12:51:51.104266",
     "status": "completed"
    },
    "tags": []
   },
   "source": [
    "##### Résultats : "
   ]
  },
  {
   "cell_type": "code",
   "execution_count": 20,
   "id": "a7805116",
   "metadata": {
    "execution": {
     "iopub.execute_input": "2021-12-18T12:51:51.243930Z",
     "iopub.status.busy": "2021-12-18T12:51:51.243177Z",
     "iopub.status.idle": "2021-12-18T12:51:51.994317Z",
     "shell.execute_reply": "2021-12-18T12:51:51.993644Z",
     "shell.execute_reply.started": "2021-12-17T22:12:43.742298Z"
    },
    "papermill": {
     "duration": 0.799069,
     "end_time": "2021-12-18T12:51:51.994466",
     "exception": false,
     "start_time": "2021-12-18T12:51:51.195397",
     "status": "completed"
    },
    "tags": []
   },
   "outputs": [
    {
     "data": {
      "image/png": "[encoded data removed]",
      "text/plain": [
       "<Figure size 1800x720 with 5 Axes>"
      ]
     },
     "metadata": {
      "needs_background": "light"
     },
     "output_type": "display_data"
    }
   ],
   "source": [
    "figure_bargraph = plt.figure(figsize=(25,10))\n",
    "plt.axis('off')\n",
    "plt.title('Résultats sur les données réduites de test', fontweight='bold', fontsize=15, pad=40)\n",
    "ax = figure_bargraph.add_subplot(121) # Create matplotlib axes\n",
    "ax2 = ax.twinx()\n",
    "width = 0.10\n",
    "plt.title('Sur-échantillonnage (SMOTE)', fontsize=14)\n",
    "df_barg = df_summary_result1.set_index('model')\n",
    "df_barg = df_barg.loc[(df_barg['Comment'] == 'test data score') | \n",
    "                      (df_barg['Comment'] == 'test data score with SMOTE(random_state=4) train data')]\n",
    "df_barg['Score AUC'].plot(kind='bar',color='green', ax=ax, width=width, position=1.5)\n",
    "df_barg['F2_score'].plot(kind='bar',color='blue', ax=ax, width=width, position=0.5)\n",
    "df_barg['Train Time(s)'].plot(kind='bar',color='orange', ax=ax2, width=width, position=-0.5)\n",
    "h1, l1 = ax.get_legend_handles_labels()\n",
    "h2, l2 = ax2.get_legend_handles_labels()\n",
    "ax.legend(h1+h2, ['AUC', 'F2', 'Train Time'], loc=2)\n",
    "ax.set_xlabel('Modèle', fontsize=12, fontweight='bold')\n",
    "ax.set_ylabel('Score', fontsize=12, fontweight='bold')\n",
    "ax2.set_ylabel('Temps (s)', fontsize=12, fontweight='bold')\n",
    "ax = figure_bargraph.add_subplot(122) # Create matplotlib axes\n",
    "ax2 = ax.twinx()\n",
    "width = 0.10\n",
    "plt.title('Sous-échantillonnage (RUS)', fontsize=14)\n",
    "df_barg = df_summary_result1.set_index('model')\n",
    "df_barg = df_barg.loc[(df_barg['Comment'] == 'test data score') | \n",
    "                      (df_barg['Comment'] == 'test data score with RandomUnderSampler(random_state=4) train data')]\n",
    "df_barg['Score AUC'].plot(kind='bar',color='green', ax=ax, width=width, position=1.5)\n",
    "df_barg['F2_score'].plot(kind='bar',color='blue', ax=ax, width=width, position=0.5)\n",
    "df_barg['Train Time(s)'].plot(kind='bar',color='orange', ax=ax2, width=width, position=-0.5)\n",
    "h1, l1 = ax.get_legend_handles_labels()\n",
    "h2, l2 = ax2.get_legend_handles_labels()\n",
    "ax.legend(h1+h2, ['AUC', 'F2', 'Train Time'], loc=2)\n",
    "ax.set_xlabel('Modèle', fontsize=12, fontweight='bold')\n",
    "ax.set_ylabel('Score', fontsize=12, fontweight='bold')\n",
    "ax2.set_ylabel('Temps (s)', fontsize=12, fontweight='bold')\n",
    "plt.show()"
   ]
  },
  {
   "cell_type": "markdown",
   "id": "61ea1c1d",
   "metadata": {
    "papermill": {
     "duration": 0.046103,
     "end_time": "2021-12-18T12:51:52.088370",
     "exception": false,
     "start_time": "2021-12-18T12:51:52.042267",
     "status": "completed"
    },
    "tags": []
   },
   "source": [
    "--> Best scores are obtained with RUS and two models (RandomForest line 6 / LGBM line 10) seems to compete in terms of: <br>\n",
    "* AUC scoring (it is our scoring method)\n",
    "* Train time\n",
    "* F2 score (interresting because it advantages the recall score over precision and this is what we want on our problematic)"
   ]
  },
  {
   "cell_type": "code",
   "execution_count": null,
   "id": "0349b973",
   "metadata": {},
   "outputs": [],
   "source": []
  },
  {
   "cell_type": "code",
   "execution_count": null,
   "id": "e8cad1d9",
   "metadata": {},
   "outputs": [],
   "source": []
  },
  {
   "cell_type": "markdown",
   "id": "86e0f15f",
   "metadata": {
    "papermill": {
     "duration": 0.046019,
     "end_time": "2021-12-18T12:51:52.180673",
     "exception": false,
     "start_time": "2021-12-18T12:51:52.134654",
     "status": "completed"
    },
    "tags": []
   },
   "source": [
    " #### Validation scores for our two best models over all our data with RUS"
   ]
  },
  {
   "cell_type": "code",
   "execution_count": 21,
   "id": "e87d6c9e",
   "metadata": {
    "execution": {
     "iopub.execute_input": "2021-12-18T12:51:52.276891Z",
     "iopub.status.busy": "2021-12-18T12:51:52.276174Z",
     "iopub.status.idle": "2021-12-18T12:51:52.654968Z",
     "shell.execute_reply": "2021-12-18T12:51:52.654352Z",
     "shell.execute_reply.started": "2021-12-17T22:13:34.239037Z"
    },
    "papermill": {
     "duration": 0.428181,
     "end_time": "2021-12-18T12:51:52.655121",
     "exception": false,
     "start_time": "2021-12-18T12:51:52.226940",
     "status": "completed"
    },
    "tags": []
   },
   "outputs": [
    {
     "data": {
      "text/plain": [
       "10085"
      ]
     },
     "execution_count": 21,
     "metadata": {},
     "output_type": "execute_result"
    }
   ],
   "source": [
    "# try to garbage X1 and y1 for memory usage\n",
    "del X1, y1, X1_train, y1_train\n",
    "gc.collect()"
   ]
  },
  {
   "cell_type": "code",
   "execution_count": 22,
   "id": "d03c8b3d",
   "metadata": {
    "execution": {
     "iopub.execute_input": "2021-12-18T12:51:52.760533Z",
     "iopub.status.busy": "2021-12-18T12:51:52.756324Z",
     "iopub.status.idle": "2021-12-18T12:52:01.162005Z",
     "shell.execute_reply": "2021-12-18T12:52:01.161297Z",
     "shell.execute_reply.started": "2021-12-17T22:13:39.66142Z"
    },
    "papermill": {
     "duration": 8.45819,
     "end_time": "2021-12-18T12:52:01.162157",
     "exception": false,
     "start_time": "2021-12-18T12:51:52.703967",
     "status": "completed"
    },
    "tags": []
   },
   "outputs": [
    {
     "name": "stdout",
     "output_type": "stream",
     "text": [
      "Time for Spliting and Normalize: 7.50\n"
     ]
    }
   ],
   "source": [
    "# spliting and use our overall data\n",
    "time_init = time.time()\n",
    "# Data split (80% of train set)\n",
    "X_train, X_test, y_train, y_test = train_test_split(X, y, train_size=0.8, stratify=y, random_state=4)\n",
    "# get X_train and X_test index\n",
    "X_train_index = X_train.index\n",
    "X_test_index = X_test.index\n",
    "# Normalization of the imput data\n",
    "std_scaler = StandardScaler()\n",
    "std_scaler.fit(X_train)\n",
    "X_train = std_scaler.transform(X_train)\n",
    "X_test = std_scaler.transform(X_test)\n",
    "print (f'Time for Spliting and Normalize: {time.time() - time_init:.2f}')"
   ]
  },
  {
   "cell_type": "code",
   "execution_count": 23,
   "id": "868acb95",
   "metadata": {
    "execution": {
     "iopub.execute_input": "2021-12-18T12:52:01.267250Z",
     "iopub.status.busy": "2021-12-18T12:52:01.266539Z",
     "iopub.status.idle": "2021-12-18T12:52:23.544216Z",
     "shell.execute_reply": "2021-12-18T12:52:23.543560Z",
     "shell.execute_reply.started": "2021-12-17T22:14:31.691918Z"
    },
    "papermill": {
     "duration": 22.334231,
     "end_time": "2021-12-18T12:52:23.544390",
     "exception": false,
     "start_time": "2021-12-18T12:52:01.210159",
     "status": "completed"
    },
    "tags": []
   },
   "outputs": [
    {
     "data": {
      "text/html": [
       "<div>\n",
       "<style scoped>\n",
       "    .dataframe tbody tr th:only-of-type {\n",
       "        vertical-align: middle;\n",
       "    }\n",
       "\n",
       "    .dataframe tbody tr th {\n",
       "        vertical-align: top;\n",
       "    }\n",
       "\n",
       "    .dataframe thead th {\n",
       "        text-align: right;\n",
       "    }\n",
       "</style>\n",
       "<table border=\"1\" class=\"dataframe\">\n",
       "  <thead>\n",
       "    <tr style=\"text-align: right;\">\n",
       "      <th></th>\n",
       "      <th>model</th>\n",
       "      <th>Score AUC</th>\n",
       "      <th>F1_score</th>\n",
       "      <th>F2_score</th>\n",
       "      <th>Precision_score</th>\n",
       "      <th>Recall_score</th>\n",
       "      <th>Train Time(s)</th>\n",
       "      <th>Predict Time(s)</th>\n",
       "      <th>Comment</th>\n",
       "    </tr>\n",
       "  </thead>\n",
       "  <tbody>\n",
       "    <tr>\n",
       "      <th>0</th>\n",
       "      <td>RandomForest classifier</td>\n",
       "      <td>0.698661</td>\n",
       "      <td>0.077787</td>\n",
       "      <td>0.054400</td>\n",
       "      <td>0.274390</td>\n",
       "      <td>0.045317</td>\n",
       "      <td>10.386787</td>\n",
       "      <td>1.409132</td>\n",
       "      <td>SMOTE(random_state=4) train data</td>\n",
       "    </tr>\n",
       "    <tr>\n",
       "      <th>1</th>\n",
       "      <td>LGBM classifier</td>\n",
       "      <td>0.747326</td>\n",
       "      <td>0.025376</td>\n",
       "      <td>0.016235</td>\n",
       "      <td>0.411392</td>\n",
       "      <td>0.013092</td>\n",
       "      <td>6.158206</td>\n",
       "      <td>0.749971</td>\n",
       "      <td>SMOTE(random_state=4) train data</td>\n",
       "    </tr>\n",
       "  </tbody>\n",
       "</table>\n",
       "</div>"
      ],
      "text/plain": [
       "                     model  Score AUC  F1_score  F2_score  Precision_score  \\\n",
       "0  RandomForest classifier   0.698661  0.077787  0.054400         0.274390   \n",
       "1          LGBM classifier   0.747326  0.025376  0.016235         0.411392   \n",
       "\n",
       "   Recall_score  Train Time(s)  Predict Time(s)  \\\n",
       "0      0.045317      10.386787         1.409132   \n",
       "1      0.013092       6.158206         0.749971   \n",
       "\n",
       "                            Comment  \n",
       "0  SMOTE(random_state=4) train data  \n",
       "1  SMOTE(random_state=4) train data  "
      ]
     },
     "execution_count": 23,
     "metadata": {},
     "output_type": "execute_result"
    }
   ],
   "source": [
    "# Trying our two RUS best model (line 5 and line 9 of our first results df_scores_CV5_1)\n",
    "# defining new list for proba\n",
    "summary_result1 = list()\n",
    "y_pred_prob_list1 = list()\n",
    "for i in [5, 9]:\n",
    "    model = df_scores_CV5_1.iloc[i,3]\n",
    "    time_init = time.time()\n",
    "    model.fit(X_train, y_train)\n",
    "    time_1 = time.time()\n",
    "    y_pred_model = model.predict(X_test)\n",
    "    time_2 = time.time()\n",
    "    y_pred_prob_model = model.predict_proba(X_test)[:,1]\n",
    "    # filling list with results for each models\n",
    "    summary_result1.append({'model': df_scores_CV5_1.iloc[i, 0], 'Score AUC':roc_auc_score(y_test, y_pred_prob_model), \n",
    "                       'F1_score': f1_score(y_test, y_pred_model), 'F2_score': fbeta_score(y_test, y_pred_model, beta=2),\n",
    "                        'Precision_score': precision_score(y_test,y_pred_model), 'Recall_score': recall_score(y_test, y_pred_model),\n",
    "                       'Train Time(s)':df_scores_CV5_1.iloc[i, 4], 'Predict Time(s)': time_2 - time_1 , 'Comment': df_scores_CV5_1.iloc[i, 5]})\n",
    "    y_pred_prob_list1.append(y_pred_prob_model)\n",
    "df_summary_result2 = pd.DataFrame(summary_result1)\n",
    "df_summary_result2"
   ]
  },
  {
   "cell_type": "markdown",
   "id": "411b9d90",
   "metadata": {
    "papermill": {
     "duration": 0.047539,
     "end_time": "2021-12-18T12:52:23.642343",
     "exception": false,
     "start_time": "2021-12-18T12:52:23.594804",
     "status": "completed"
    },
    "tags": []
   },
   "source": [
    "##### ROC and Precision/Recall curves"
   ]
  },
  {
   "cell_type": "code",
   "execution_count": 24,
   "id": "d1e9df1c",
   "metadata": {
    "execution": {
     "iopub.execute_input": "2021-12-18T12:52:23.749301Z",
     "iopub.status.busy": "2021-12-18T12:52:23.748549Z",
     "iopub.status.idle": "2021-12-18T12:52:24.281998Z",
     "shell.execute_reply": "2021-12-18T12:52:24.281311Z",
     "shell.execute_reply.started": "2021-12-17T22:15:00.125962Z"
    },
    "papermill": {
     "duration": 0.589544,
     "end_time": "2021-12-18T12:52:24.282147",
     "exception": false,
     "start_time": "2021-12-18T12:52:23.692603",
     "status": "completed"
    },
    "tags": []
   },
   "outputs": [
    {
     "data": {
      "image/png": "[encoded data removed]",
      "text/plain": [
       "<Figure size 1080x504 with 2 Axes>"
      ]
     },
     "metadata": {
      "needs_background": "light"
     },
     "output_type": "display_data"
    }
   ],
   "source": [
    "ROC_PR_curves(y_test, y_pred_prob_list1, df_summary_result2['model'])"
   ]
  },
  {
   "cell_type": "markdown",
   "id": "a4de4637",
   "metadata": {
    "papermill": {
     "duration": 0.054893,
     "end_time": "2021-12-18T12:52:24.388102",
     "exception": false,
     "start_time": "2021-12-18T12:52:24.333209",
     "status": "completed"
    },
    "tags": []
   },
   "source": [
    "--> Finalement , je choisis de conserver l'algorithme **LGBMClassifier**.\n",
    "Les paramètres retenus sont::<br>\n",
    "* n_estimator = 60\n",
    "* max_depth = 7\n",
    "* learning_rate = 0.1\n",
    "* random_state=4 <br>\n",
    "\n",
    "-->Nous allons essayer un GirdSearchCV autour de ces paramètres sur une métrique personnalisée avec ce modèle"
   ]
  },
  {
   "cell_type": "code",
   "execution_count": null,
   "id": "4b1e01a4",
   "metadata": {},
   "outputs": [],
   "source": []
  }
 ],
 "metadata": {
  "kernelspec": {
   "display_name": "Python 3 (ipykernel)",
   "language": "python",
   "name": "python3"
  },
  "language_info": {
   "codemirror_mode": {
    "name": "ipython",
    "version": 3
   },
   "file_extension": ".py",
   "mimetype": "text/x-python",
   "name": "python",
   "nbconvert_exporter": "python",
   "pygments_lexer": "ipython3",
   "version": "3.9.7"
  },
  "papermill": {
   "default_parameters": {},
   "duration": 7116.109232,
   "end_time": "2021-12-18T12:52:25.675474",
   "environment_variables": {},
   "exception": null,
   "input_path": "__notebook__.ipynb",
   "output_path": "__notebook__.ipynb",
   "parameters": {},
   "start_time": "2021-12-18T10:53:49.566242",
   "version": "2.3.3"
  }
 },
 "nbformat": 4,
 "nbformat_minor": 5
}
